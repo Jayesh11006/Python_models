{
 "cells": [
  {
   "cell_type": "code",
   "execution_count": 3,
   "id": "fabfb20c",
   "metadata": {},
   "outputs": [],
   "source": [
    "import pandas as pd\n",
    "import numpy as np"
   ]
  },
  {
   "cell_type": "code",
   "execution_count": 4,
   "id": "76d00e21",
   "metadata": {},
   "outputs": [
    {
     "data": {
      "text/html": [
       "<div>\n",
       "<style scoped>\n",
       "    .dataframe tbody tr th:only-of-type {\n",
       "        vertical-align: middle;\n",
       "    }\n",
       "\n",
       "    .dataframe tbody tr th {\n",
       "        vertical-align: top;\n",
       "    }\n",
       "\n",
       "    .dataframe thead th {\n",
       "        text-align: right;\n",
       "    }\n",
       "</style>\n",
       "<table border=\"1\" class=\"dataframe\">\n",
       "  <thead>\n",
       "    <tr style=\"text-align: right;\">\n",
       "      <th></th>\n",
       "      <th>area_type</th>\n",
       "      <th>availability</th>\n",
       "      <th>location</th>\n",
       "      <th>size</th>\n",
       "      <th>society</th>\n",
       "      <th>total_sqft</th>\n",
       "      <th>bath</th>\n",
       "      <th>balcony</th>\n",
       "      <th>price</th>\n",
       "    </tr>\n",
       "  </thead>\n",
       "  <tbody>\n",
       "    <tr>\n",
       "      <th>0</th>\n",
       "      <td>Super built-up  Area</td>\n",
       "      <td>19-Dec</td>\n",
       "      <td>Electronic City Phase II</td>\n",
       "      <td>2 BHK</td>\n",
       "      <td>Coomee</td>\n",
       "      <td>1056</td>\n",
       "      <td>2.0</td>\n",
       "      <td>1.0</td>\n",
       "      <td>39.07</td>\n",
       "    </tr>\n",
       "    <tr>\n",
       "      <th>1</th>\n",
       "      <td>Plot  Area</td>\n",
       "      <td>Ready To Move</td>\n",
       "      <td>Chikka Tirupathi</td>\n",
       "      <td>4 Bedroom</td>\n",
       "      <td>Theanmp</td>\n",
       "      <td>2600</td>\n",
       "      <td>5.0</td>\n",
       "      <td>3.0</td>\n",
       "      <td>120.00</td>\n",
       "    </tr>\n",
       "    <tr>\n",
       "      <th>2</th>\n",
       "      <td>Built-up  Area</td>\n",
       "      <td>Ready To Move</td>\n",
       "      <td>Uttarahalli</td>\n",
       "      <td>3 BHK</td>\n",
       "      <td>NaN</td>\n",
       "      <td>1440</td>\n",
       "      <td>2.0</td>\n",
       "      <td>3.0</td>\n",
       "      <td>62.00</td>\n",
       "    </tr>\n",
       "    <tr>\n",
       "      <th>3</th>\n",
       "      <td>Super built-up  Area</td>\n",
       "      <td>Ready To Move</td>\n",
       "      <td>Lingadheeranahalli</td>\n",
       "      <td>3 BHK</td>\n",
       "      <td>Soiewre</td>\n",
       "      <td>1521</td>\n",
       "      <td>3.0</td>\n",
       "      <td>1.0</td>\n",
       "      <td>95.00</td>\n",
       "    </tr>\n",
       "    <tr>\n",
       "      <th>4</th>\n",
       "      <td>Super built-up  Area</td>\n",
       "      <td>Ready To Move</td>\n",
       "      <td>Kothanur</td>\n",
       "      <td>2 BHK</td>\n",
       "      <td>NaN</td>\n",
       "      <td>1200</td>\n",
       "      <td>2.0</td>\n",
       "      <td>1.0</td>\n",
       "      <td>51.00</td>\n",
       "    </tr>\n",
       "  </tbody>\n",
       "</table>\n",
       "</div>"
      ],
      "text/plain": [
       "              area_type   availability                  location       size  \\\n",
       "0  Super built-up  Area         19-Dec  Electronic City Phase II      2 BHK   \n",
       "1            Plot  Area  Ready To Move          Chikka Tirupathi  4 Bedroom   \n",
       "2        Built-up  Area  Ready To Move               Uttarahalli      3 BHK   \n",
       "3  Super built-up  Area  Ready To Move        Lingadheeranahalli      3 BHK   \n",
       "4  Super built-up  Area  Ready To Move                  Kothanur      2 BHK   \n",
       "\n",
       "   society total_sqft  bath  balcony   price  \n",
       "0  Coomee        1056   2.0      1.0   39.07  \n",
       "1  Theanmp       2600   5.0      3.0  120.00  \n",
       "2      NaN       1440   2.0      3.0   62.00  \n",
       "3  Soiewre       1521   3.0      1.0   95.00  \n",
       "4      NaN       1200   2.0      1.0   51.00  "
      ]
     },
     "execution_count": 4,
     "metadata": {},
     "output_type": "execute_result"
    }
   ],
   "source": [
    "data=pd.read_csv('Bengaluru_House_Data.csv')\n",
    "data.head()"
   ]
  },
  {
   "cell_type": "code",
   "execution_count": 5,
   "id": "26083181",
   "metadata": {},
   "outputs": [
    {
     "data": {
      "text/plain": [
       "(13320, 9)"
      ]
     },
     "execution_count": 5,
     "metadata": {},
     "output_type": "execute_result"
    }
   ],
   "source": [
    "data.shape"
   ]
  },
  {
   "cell_type": "code",
   "execution_count": 6,
   "id": "36dc1987",
   "metadata": {},
   "outputs": [
    {
     "name": "stdout",
     "output_type": "stream",
     "text": [
      "<class 'pandas.core.frame.DataFrame'>\n",
      "RangeIndex: 13320 entries, 0 to 13319\n",
      "Data columns (total 9 columns):\n",
      " #   Column        Non-Null Count  Dtype  \n",
      "---  ------        --------------  -----  \n",
      " 0   area_type     13320 non-null  object \n",
      " 1   availability  13320 non-null  object \n",
      " 2   location      13319 non-null  object \n",
      " 3   size          13304 non-null  object \n",
      " 4   society       7818 non-null   object \n",
      " 5   total_sqft    13320 non-null  object \n",
      " 6   bath          13247 non-null  float64\n",
      " 7   balcony       12711 non-null  float64\n",
      " 8   price         13320 non-null  float64\n",
      "dtypes: float64(3), object(6)\n",
      "memory usage: 936.7+ KB\n"
     ]
    }
   ],
   "source": [
    "data.info()"
   ]
  },
  {
   "cell_type": "code",
   "execution_count": 7,
   "id": "51332d6e",
   "metadata": {},
   "outputs": [
    {
     "name": "stdout",
     "output_type": "stream",
     "text": [
      "Super built-up  Area    8790\n",
      "Built-up  Area          2418\n",
      "Plot  Area              2025\n",
      "Carpet  Area              87\n",
      "Name: area_type, dtype: int64\n",
      "********************\n",
      "Ready To Move    10581\n",
      "18-Dec             307\n",
      "18-May             295\n",
      "18-Apr             271\n",
      "18-Aug             200\n",
      "                 ...  \n",
      "15-Aug               1\n",
      "17-Jan               1\n",
      "16-Nov               1\n",
      "16-Jan               1\n",
      "14-Jul               1\n",
      "Name: availability, Length: 81, dtype: int64\n",
      "********************\n",
      "Whitefield                        540\n",
      "Sarjapur  Road                    399\n",
      "Electronic City                   302\n",
      "Kanakpura Road                    273\n",
      "Thanisandra                       234\n",
      "                                 ... \n",
      "Bapuji Layout                       1\n",
      "1st Stage Radha Krishna Layout      1\n",
      "BEML Layout 5th stage               1\n",
      "singapura paradise                  1\n",
      "Abshot Layout                       1\n",
      "Name: location, Length: 1305, dtype: int64\n",
      "********************\n",
      "2 BHK         5199\n",
      "3 BHK         4310\n",
      "4 Bedroom      826\n",
      "4 BHK          591\n",
      "3 Bedroom      547\n",
      "1 BHK          538\n",
      "2 Bedroom      329\n",
      "5 Bedroom      297\n",
      "6 Bedroom      191\n",
      "1 Bedroom      105\n",
      "8 Bedroom       84\n",
      "7 Bedroom       83\n",
      "5 BHK           59\n",
      "9 Bedroom       46\n",
      "6 BHK           30\n",
      "7 BHK           17\n",
      "1 RK            13\n",
      "10 Bedroom      12\n",
      "9 BHK            8\n",
      "8 BHK            5\n",
      "11 BHK           2\n",
      "11 Bedroom       2\n",
      "10 BHK           2\n",
      "14 BHK           1\n",
      "13 BHK           1\n",
      "12 Bedroom       1\n",
      "27 BHK           1\n",
      "43 Bedroom       1\n",
      "16 BHK           1\n",
      "19 BHK           1\n",
      "18 Bedroom       1\n",
      "Name: size, dtype: int64\n",
      "********************\n",
      "GrrvaGr    80\n",
      "PrarePa    76\n",
      "Sryalan    59\n",
      "Prtates    59\n",
      "GMown E    56\n",
      "           ..\n",
      "Amionce     1\n",
      "JaghtDe     1\n",
      "Jauraht     1\n",
      "Brity U     1\n",
      "RSntsAp     1\n",
      "Name: society, Length: 2688, dtype: int64\n",
      "********************\n",
      "1200    843\n",
      "1100    221\n",
      "1500    205\n",
      "2400    196\n",
      "600     180\n",
      "       ... \n",
      "3580      1\n",
      "2461      1\n",
      "1437      1\n",
      "2155      1\n",
      "4689      1\n",
      "Name: total_sqft, Length: 2117, dtype: int64\n",
      "********************\n",
      "2.0     6908\n",
      "3.0     3286\n",
      "4.0     1226\n",
      "1.0      788\n",
      "5.0      524\n",
      "6.0      273\n",
      "7.0      102\n",
      "8.0       64\n",
      "9.0       43\n",
      "10.0      13\n",
      "12.0       7\n",
      "13.0       3\n",
      "11.0       3\n",
      "16.0       2\n",
      "27.0       1\n",
      "40.0       1\n",
      "15.0       1\n",
      "14.0       1\n",
      "18.0       1\n",
      "Name: bath, dtype: int64\n",
      "********************\n",
      "2.0    5113\n",
      "1.0    4897\n",
      "3.0    1672\n",
      "0.0    1029\n",
      "Name: balcony, dtype: int64\n",
      "********************\n",
      "75.00     310\n",
      "65.00     302\n",
      "55.00     275\n",
      "60.00     270\n",
      "45.00     240\n",
      "         ... \n",
      "351.00      1\n",
      "54.10       1\n",
      "80.64       1\n",
      "32.73       1\n",
      "488.00      1\n",
      "Name: price, Length: 1994, dtype: int64\n",
      "********************\n"
     ]
    }
   ],
   "source": [
    "for column in data.columns:\n",
    "    print(data[column].value_counts())\n",
    "    print(\"*\"*20)"
   ]
  },
  {
   "cell_type": "code",
   "execution_count": 8,
   "id": "903b1b04",
   "metadata": {},
   "outputs": [
    {
     "data": {
      "text/plain": [
       "area_type          0\n",
       "availability       0\n",
       "location           1\n",
       "size              16\n",
       "society         5502\n",
       "total_sqft         0\n",
       "bath              73\n",
       "balcony          609\n",
       "price              0\n",
       "dtype: int64"
      ]
     },
     "execution_count": 8,
     "metadata": {},
     "output_type": "execute_result"
    }
   ],
   "source": [
    "data.isna().sum()"
   ]
  },
  {
   "cell_type": "code",
   "execution_count": 9,
   "id": "8db27acd",
   "metadata": {},
   "outputs": [],
   "source": [
    "data.drop(columns = ['area_type','availability','society','balcony'],inplace=True)"
   ]
  },
  {
   "cell_type": "code",
   "execution_count": 10,
   "id": "7be1c3f8",
   "metadata": {},
   "outputs": [
    {
     "data": {
      "text/html": [
       "<div>\n",
       "<style scoped>\n",
       "    .dataframe tbody tr th:only-of-type {\n",
       "        vertical-align: middle;\n",
       "    }\n",
       "\n",
       "    .dataframe tbody tr th {\n",
       "        vertical-align: top;\n",
       "    }\n",
       "\n",
       "    .dataframe thead th {\n",
       "        text-align: right;\n",
       "    }\n",
       "</style>\n",
       "<table border=\"1\" class=\"dataframe\">\n",
       "  <thead>\n",
       "    <tr style=\"text-align: right;\">\n",
       "      <th></th>\n",
       "      <th>bath</th>\n",
       "      <th>price</th>\n",
       "    </tr>\n",
       "  </thead>\n",
       "  <tbody>\n",
       "    <tr>\n",
       "      <th>count</th>\n",
       "      <td>13247.000000</td>\n",
       "      <td>13320.000000</td>\n",
       "    </tr>\n",
       "    <tr>\n",
       "      <th>mean</th>\n",
       "      <td>2.692610</td>\n",
       "      <td>112.565627</td>\n",
       "    </tr>\n",
       "    <tr>\n",
       "      <th>std</th>\n",
       "      <td>1.341458</td>\n",
       "      <td>148.971674</td>\n",
       "    </tr>\n",
       "    <tr>\n",
       "      <th>min</th>\n",
       "      <td>1.000000</td>\n",
       "      <td>8.000000</td>\n",
       "    </tr>\n",
       "    <tr>\n",
       "      <th>25%</th>\n",
       "      <td>2.000000</td>\n",
       "      <td>50.000000</td>\n",
       "    </tr>\n",
       "    <tr>\n",
       "      <th>50%</th>\n",
       "      <td>2.000000</td>\n",
       "      <td>72.000000</td>\n",
       "    </tr>\n",
       "    <tr>\n",
       "      <th>75%</th>\n",
       "      <td>3.000000</td>\n",
       "      <td>120.000000</td>\n",
       "    </tr>\n",
       "    <tr>\n",
       "      <th>max</th>\n",
       "      <td>40.000000</td>\n",
       "      <td>3600.000000</td>\n",
       "    </tr>\n",
       "  </tbody>\n",
       "</table>\n",
       "</div>"
      ],
      "text/plain": [
       "               bath         price\n",
       "count  13247.000000  13320.000000\n",
       "mean       2.692610    112.565627\n",
       "std        1.341458    148.971674\n",
       "min        1.000000      8.000000\n",
       "25%        2.000000     50.000000\n",
       "50%        2.000000     72.000000\n",
       "75%        3.000000    120.000000\n",
       "max       40.000000   3600.000000"
      ]
     },
     "execution_count": 10,
     "metadata": {},
     "output_type": "execute_result"
    }
   ],
   "source": [
    "data.describe()"
   ]
  },
  {
   "cell_type": "code",
   "execution_count": 11,
   "id": "5fc655a3",
   "metadata": {},
   "outputs": [
    {
     "name": "stdout",
     "output_type": "stream",
     "text": [
      "<class 'pandas.core.frame.DataFrame'>\n",
      "RangeIndex: 13320 entries, 0 to 13319\n",
      "Data columns (total 5 columns):\n",
      " #   Column      Non-Null Count  Dtype  \n",
      "---  ------      --------------  -----  \n",
      " 0   location    13319 non-null  object \n",
      " 1   size        13304 non-null  object \n",
      " 2   total_sqft  13320 non-null  object \n",
      " 3   bath        13247 non-null  float64\n",
      " 4   price       13320 non-null  float64\n",
      "dtypes: float64(2), object(3)\n",
      "memory usage: 520.4+ KB\n"
     ]
    }
   ],
   "source": [
    "data.info()"
   ]
  },
  {
   "cell_type": "code",
   "execution_count": 12,
   "id": "47467e57",
   "metadata": {},
   "outputs": [
    {
     "data": {
      "text/plain": [
       "Whitefield                        540\n",
       "Sarjapur  Road                    399\n",
       "Electronic City                   302\n",
       "Kanakpura Road                    273\n",
       "Thanisandra                       234\n",
       "                                 ... \n",
       "Bapuji Layout                       1\n",
       "1st Stage Radha Krishna Layout      1\n",
       "BEML Layout 5th stage               1\n",
       "singapura paradise                  1\n",
       "Abshot Layout                       1\n",
       "Name: location, Length: 1305, dtype: int64"
      ]
     },
     "execution_count": 12,
     "metadata": {},
     "output_type": "execute_result"
    }
   ],
   "source": [
    "data['location'].value_counts()"
   ]
  },
  {
   "cell_type": "code",
   "execution_count": 13,
   "id": "b59ef414",
   "metadata": {},
   "outputs": [],
   "source": [
    "data['location'] = data['location'].fillna('Sarjapur Road')"
   ]
  },
  {
   "cell_type": "code",
   "execution_count": 14,
   "id": "22a56528",
   "metadata": {},
   "outputs": [
    {
     "data": {
      "text/plain": [
       "2 BHK         5199\n",
       "3 BHK         4310\n",
       "4 Bedroom      826\n",
       "4 BHK          591\n",
       "3 Bedroom      547\n",
       "1 BHK          538\n",
       "2 Bedroom      329\n",
       "5 Bedroom      297\n",
       "6 Bedroom      191\n",
       "1 Bedroom      105\n",
       "8 Bedroom       84\n",
       "7 Bedroom       83\n",
       "5 BHK           59\n",
       "9 Bedroom       46\n",
       "6 BHK           30\n",
       "7 BHK           17\n",
       "1 RK            13\n",
       "10 Bedroom      12\n",
       "9 BHK            8\n",
       "8 BHK            5\n",
       "11 BHK           2\n",
       "11 Bedroom       2\n",
       "10 BHK           2\n",
       "14 BHK           1\n",
       "13 BHK           1\n",
       "12 Bedroom       1\n",
       "27 BHK           1\n",
       "43 Bedroom       1\n",
       "16 BHK           1\n",
       "19 BHK           1\n",
       "18 Bedroom       1\n",
       "Name: size, dtype: int64"
      ]
     },
     "execution_count": 14,
     "metadata": {},
     "output_type": "execute_result"
    }
   ],
   "source": [
    "data['size'].value_counts()"
   ]
  },
  {
   "cell_type": "code",
   "execution_count": 15,
   "id": "19ade179",
   "metadata": {},
   "outputs": [],
   "source": [
    "data['size'] = data['size'].fillna('2 BHK')"
   ]
  },
  {
   "cell_type": "code",
   "execution_count": 16,
   "id": "752174bc",
   "metadata": {},
   "outputs": [],
   "source": [
    "data['bath'] = data['bath'].fillna(data['bath'].median())"
   ]
  },
  {
   "cell_type": "code",
   "execution_count": 17,
   "id": "ac5ca006",
   "metadata": {},
   "outputs": [
    {
     "name": "stdout",
     "output_type": "stream",
     "text": [
      "<class 'pandas.core.frame.DataFrame'>\n",
      "RangeIndex: 13320 entries, 0 to 13319\n",
      "Data columns (total 5 columns):\n",
      " #   Column      Non-Null Count  Dtype  \n",
      "---  ------      --------------  -----  \n",
      " 0   location    13320 non-null  object \n",
      " 1   size        13320 non-null  object \n",
      " 2   total_sqft  13320 non-null  object \n",
      " 3   bath        13320 non-null  float64\n",
      " 4   price       13320 non-null  float64\n",
      "dtypes: float64(2), object(3)\n",
      "memory usage: 520.4+ KB\n"
     ]
    }
   ],
   "source": [
    "data.info()    #no null value"
   ]
  },
  {
   "cell_type": "code",
   "execution_count": 18,
   "id": "20a62ab8",
   "metadata": {},
   "outputs": [],
   "source": [
    "#stop 8:58"
   ]
  },
  {
   "cell_type": "code",
   "execution_count": 19,
   "id": "fe7ae16e",
   "metadata": {},
   "outputs": [],
   "source": [
    "data['bhk']=data['size'].str.split().str.get(0).astype(int)"
   ]
  },
  {
   "cell_type": "code",
   "execution_count": 20,
   "id": "934b57a2",
   "metadata": {},
   "outputs": [
    {
     "data": {
      "text/html": [
       "<div>\n",
       "<style scoped>\n",
       "    .dataframe tbody tr th:only-of-type {\n",
       "        vertical-align: middle;\n",
       "    }\n",
       "\n",
       "    .dataframe tbody tr th {\n",
       "        vertical-align: top;\n",
       "    }\n",
       "\n",
       "    .dataframe thead th {\n",
       "        text-align: right;\n",
       "    }\n",
       "</style>\n",
       "<table border=\"1\" class=\"dataframe\">\n",
       "  <thead>\n",
       "    <tr style=\"text-align: right;\">\n",
       "      <th></th>\n",
       "      <th>location</th>\n",
       "      <th>size</th>\n",
       "      <th>total_sqft</th>\n",
       "      <th>bath</th>\n",
       "      <th>price</th>\n",
       "      <th>bhk</th>\n",
       "    </tr>\n",
       "  </thead>\n",
       "  <tbody>\n",
       "    <tr>\n",
       "      <th>1718</th>\n",
       "      <td>2Electronic City Phase II</td>\n",
       "      <td>27 BHK</td>\n",
       "      <td>8000</td>\n",
       "      <td>27.0</td>\n",
       "      <td>230.0</td>\n",
       "      <td>27</td>\n",
       "    </tr>\n",
       "    <tr>\n",
       "      <th>4684</th>\n",
       "      <td>Munnekollal</td>\n",
       "      <td>43 Bedroom</td>\n",
       "      <td>2400</td>\n",
       "      <td>40.0</td>\n",
       "      <td>660.0</td>\n",
       "      <td>43</td>\n",
       "    </tr>\n",
       "  </tbody>\n",
       "</table>\n",
       "</div>"
      ],
      "text/plain": [
       "                       location        size total_sqft  bath  price  bhk\n",
       "1718  2Electronic City Phase II      27 BHK       8000  27.0  230.0   27\n",
       "4684                Munnekollal  43 Bedroom       2400  40.0  660.0   43"
      ]
     },
     "execution_count": 20,
     "metadata": {},
     "output_type": "execute_result"
    }
   ],
   "source": [
    "data[data.bhk > 20]"
   ]
  },
  {
   "cell_type": "code",
   "execution_count": 21,
   "id": "d7c1f615",
   "metadata": {},
   "outputs": [
    {
     "data": {
      "text/plain": [
       "array(['1056', '2600', '1440', ..., '1133 - 1384', '774', '4689'],\n",
       "      dtype=object)"
      ]
     },
     "execution_count": 21,
     "metadata": {},
     "output_type": "execute_result"
    }
   ],
   "source": [
    "data['total_sqft'].unique()"
   ]
  },
  {
   "cell_type": "code",
   "execution_count": 24,
   "id": "73480f84",
   "metadata": {},
   "outputs": [],
   "source": [
    "def convertRange(x):\n",
    "    temp = x.split('-')\n",
    "    if len(temp) == 2:\n",
    "        return (float(temp[0]) + float(temp[1]))/2\n",
    "    try:\n",
    "        return float(x)\n",
    "    except:\n",
    "        return None"
   ]
  },
  {
   "cell_type": "code",
   "execution_count": 25,
   "id": "1df84f75",
   "metadata": {},
   "outputs": [],
   "source": [
    "data['total_sqft'] = data['total_sqft'].apply(convertRange)"
   ]
  },
  {
   "cell_type": "code",
   "execution_count": 26,
   "id": "f1096b4a",
   "metadata": {},
   "outputs": [
    {
     "data": {
      "text/html": [
       "<div>\n",
       "<style scoped>\n",
       "    .dataframe tbody tr th:only-of-type {\n",
       "        vertical-align: middle;\n",
       "    }\n",
       "\n",
       "    .dataframe tbody tr th {\n",
       "        vertical-align: top;\n",
       "    }\n",
       "\n",
       "    .dataframe thead th {\n",
       "        text-align: right;\n",
       "    }\n",
       "</style>\n",
       "<table border=\"1\" class=\"dataframe\">\n",
       "  <thead>\n",
       "    <tr style=\"text-align: right;\">\n",
       "      <th></th>\n",
       "      <th>location</th>\n",
       "      <th>size</th>\n",
       "      <th>total_sqft</th>\n",
       "      <th>bath</th>\n",
       "      <th>price</th>\n",
       "      <th>bhk</th>\n",
       "    </tr>\n",
       "  </thead>\n",
       "  <tbody>\n",
       "    <tr>\n",
       "      <th>0</th>\n",
       "      <td>Electronic City Phase II</td>\n",
       "      <td>2 BHK</td>\n",
       "      <td>1056.0</td>\n",
       "      <td>2.0</td>\n",
       "      <td>39.07</td>\n",
       "      <td>2</td>\n",
       "    </tr>\n",
       "    <tr>\n",
       "      <th>1</th>\n",
       "      <td>Chikka Tirupathi</td>\n",
       "      <td>4 Bedroom</td>\n",
       "      <td>2600.0</td>\n",
       "      <td>5.0</td>\n",
       "      <td>120.00</td>\n",
       "      <td>4</td>\n",
       "    </tr>\n",
       "    <tr>\n",
       "      <th>2</th>\n",
       "      <td>Uttarahalli</td>\n",
       "      <td>3 BHK</td>\n",
       "      <td>1440.0</td>\n",
       "      <td>2.0</td>\n",
       "      <td>62.00</td>\n",
       "      <td>3</td>\n",
       "    </tr>\n",
       "    <tr>\n",
       "      <th>3</th>\n",
       "      <td>Lingadheeranahalli</td>\n",
       "      <td>3 BHK</td>\n",
       "      <td>1521.0</td>\n",
       "      <td>3.0</td>\n",
       "      <td>95.00</td>\n",
       "      <td>3</td>\n",
       "    </tr>\n",
       "    <tr>\n",
       "      <th>4</th>\n",
       "      <td>Kothanur</td>\n",
       "      <td>2 BHK</td>\n",
       "      <td>1200.0</td>\n",
       "      <td>2.0</td>\n",
       "      <td>51.00</td>\n",
       "      <td>2</td>\n",
       "    </tr>\n",
       "  </tbody>\n",
       "</table>\n",
       "</div>"
      ],
      "text/plain": [
       "                   location       size  total_sqft  bath   price  bhk\n",
       "0  Electronic City Phase II      2 BHK      1056.0   2.0   39.07    2\n",
       "1          Chikka Tirupathi  4 Bedroom      2600.0   5.0  120.00    4\n",
       "2               Uttarahalli      3 BHK      1440.0   2.0   62.00    3\n",
       "3        Lingadheeranahalli      3 BHK      1521.0   3.0   95.00    3\n",
       "4                  Kothanur      2 BHK      1200.0   2.0   51.00    2"
      ]
     },
     "execution_count": 26,
     "metadata": {},
     "output_type": "execute_result"
    }
   ],
   "source": [
    "data.head()"
   ]
  },
  {
   "cell_type": "markdown",
   "id": "a1636a82",
   "metadata": {},
   "source": [
    "## price per square feet"
   ]
  },
  {
   "cell_type": "code",
   "execution_count": 28,
   "id": "0afba4c1",
   "metadata": {},
   "outputs": [],
   "source": [
    "data['price_per_sqft'] = data['price']*100000 / data['total_sqft']"
   ]
  },
  {
   "cell_type": "code",
   "execution_count": 29,
   "id": "efd8d63c",
   "metadata": {},
   "outputs": [
    {
     "data": {
      "text/plain": [
       "0         3699.810606\n",
       "1         4615.384615\n",
       "2         4305.555556\n",
       "3         6245.890861\n",
       "4         4250.000000\n",
       "             ...     \n",
       "13315     6689.834926\n",
       "13316    11111.111111\n",
       "13317     5258.545136\n",
       "13318    10407.336319\n",
       "13319     3090.909091\n",
       "Name: price_per_sqft, Length: 13320, dtype: float64"
      ]
     },
     "execution_count": 29,
     "metadata": {},
     "output_type": "execute_result"
    }
   ],
   "source": [
    "data['price_per_sqft']"
   ]
  },
  {
   "cell_type": "code",
   "execution_count": 30,
   "id": "2bbb4a02",
   "metadata": {},
   "outputs": [
    {
     "data": {
      "text/html": [
       "<div>\n",
       "<style scoped>\n",
       "    .dataframe tbody tr th:only-of-type {\n",
       "        vertical-align: middle;\n",
       "    }\n",
       "\n",
       "    .dataframe tbody tr th {\n",
       "        vertical-align: top;\n",
       "    }\n",
       "\n",
       "    .dataframe thead th {\n",
       "        text-align: right;\n",
       "    }\n",
       "</style>\n",
       "<table border=\"1\" class=\"dataframe\">\n",
       "  <thead>\n",
       "    <tr style=\"text-align: right;\">\n",
       "      <th></th>\n",
       "      <th>total_sqft</th>\n",
       "      <th>bath</th>\n",
       "      <th>price</th>\n",
       "      <th>bhk</th>\n",
       "      <th>price_per_sqft</th>\n",
       "    </tr>\n",
       "  </thead>\n",
       "  <tbody>\n",
       "    <tr>\n",
       "      <th>count</th>\n",
       "      <td>13274.000000</td>\n",
       "      <td>13320.000000</td>\n",
       "      <td>13320.000000</td>\n",
       "      <td>13320.000000</td>\n",
       "      <td>1.327400e+04</td>\n",
       "    </tr>\n",
       "    <tr>\n",
       "      <th>mean</th>\n",
       "      <td>1559.626694</td>\n",
       "      <td>2.688814</td>\n",
       "      <td>112.565627</td>\n",
       "      <td>2.802778</td>\n",
       "      <td>7.907501e+03</td>\n",
       "    </tr>\n",
       "    <tr>\n",
       "      <th>std</th>\n",
       "      <td>1238.405258</td>\n",
       "      <td>1.338754</td>\n",
       "      <td>148.971674</td>\n",
       "      <td>1.294496</td>\n",
       "      <td>1.064296e+05</td>\n",
       "    </tr>\n",
       "    <tr>\n",
       "      <th>min</th>\n",
       "      <td>1.000000</td>\n",
       "      <td>1.000000</td>\n",
       "      <td>8.000000</td>\n",
       "      <td>1.000000</td>\n",
       "      <td>2.678298e+02</td>\n",
       "    </tr>\n",
       "    <tr>\n",
       "      <th>25%</th>\n",
       "      <td>1100.000000</td>\n",
       "      <td>2.000000</td>\n",
       "      <td>50.000000</td>\n",
       "      <td>2.000000</td>\n",
       "      <td>4.266865e+03</td>\n",
       "    </tr>\n",
       "    <tr>\n",
       "      <th>50%</th>\n",
       "      <td>1276.000000</td>\n",
       "      <td>2.000000</td>\n",
       "      <td>72.000000</td>\n",
       "      <td>3.000000</td>\n",
       "      <td>5.434306e+03</td>\n",
       "    </tr>\n",
       "    <tr>\n",
       "      <th>75%</th>\n",
       "      <td>1680.000000</td>\n",
       "      <td>3.000000</td>\n",
       "      <td>120.000000</td>\n",
       "      <td>3.000000</td>\n",
       "      <td>7.311746e+03</td>\n",
       "    </tr>\n",
       "    <tr>\n",
       "      <th>max</th>\n",
       "      <td>52272.000000</td>\n",
       "      <td>40.000000</td>\n",
       "      <td>3600.000000</td>\n",
       "      <td>43.000000</td>\n",
       "      <td>1.200000e+07</td>\n",
       "    </tr>\n",
       "  </tbody>\n",
       "</table>\n",
       "</div>"
      ],
      "text/plain": [
       "         total_sqft          bath         price           bhk  price_per_sqft\n",
       "count  13274.000000  13320.000000  13320.000000  13320.000000    1.327400e+04\n",
       "mean    1559.626694      2.688814    112.565627      2.802778    7.907501e+03\n",
       "std     1238.405258      1.338754    148.971674      1.294496    1.064296e+05\n",
       "min        1.000000      1.000000      8.000000      1.000000    2.678298e+02\n",
       "25%     1100.000000      2.000000     50.000000      2.000000    4.266865e+03\n",
       "50%     1276.000000      2.000000     72.000000      3.000000    5.434306e+03\n",
       "75%     1680.000000      3.000000    120.000000      3.000000    7.311746e+03\n",
       "max    52272.000000     40.000000   3600.000000     43.000000    1.200000e+07"
      ]
     },
     "execution_count": 30,
     "metadata": {},
     "output_type": "execute_result"
    }
   ],
   "source": [
    "data.describe()"
   ]
  },
  {
   "cell_type": "code",
   "execution_count": 31,
   "id": "b184a43b",
   "metadata": {},
   "outputs": [
    {
     "data": {
      "text/plain": [
       "Whitefield                        540\n",
       "Sarjapur  Road                    399\n",
       "Electronic City                   302\n",
       "Kanakpura Road                    273\n",
       "Thanisandra                       234\n",
       "                                 ... \n",
       "1st Stage Radha Krishna Layout      1\n",
       "BEML Layout 5th stage               1\n",
       "singapura paradise                  1\n",
       "Uvce Layout                         1\n",
       "Abshot Layout                       1\n",
       "Name: location, Length: 1306, dtype: int64"
      ]
     },
     "execution_count": 31,
     "metadata": {},
     "output_type": "execute_result"
    }
   ],
   "source": [
    "data['location'].value_counts()"
   ]
  },
  {
   "cell_type": "code",
   "execution_count": 32,
   "id": "7d4bb253",
   "metadata": {},
   "outputs": [],
   "source": [
    "data['location']  = data['location'].apply(lambda x: x.strip())\n",
    "location_count = data['location'].value_counts()"
   ]
  },
  {
   "cell_type": "code",
   "execution_count": 33,
   "id": "ac0efc94",
   "metadata": {},
   "outputs": [
    {
     "data": {
      "text/plain": [
       "Whitefield                            541\n",
       "Sarjapur  Road                        399\n",
       "Electronic City                       304\n",
       "Kanakpura Road                        273\n",
       "Thanisandra                           237\n",
       "                                     ... \n",
       "1Channasandra                           1\n",
       "Hosahalli                               1\n",
       "Vijayabank bank layout                  1\n",
       "near Ramanashree California resort      1\n",
       "Abshot Layout                           1\n",
       "Name: location, Length: 1295, dtype: int64"
      ]
     },
     "execution_count": 33,
     "metadata": {},
     "output_type": "execute_result"
    }
   ],
   "source": [
    "location_count"
   ]
  },
  {
   "cell_type": "code",
   "execution_count": 34,
   "id": "4ccfaa37",
   "metadata": {},
   "outputs": [
    {
     "data": {
      "text/plain": [
       "BTM 1st Stage                         10\n",
       "Nagadevanahalli                       10\n",
       "Basapura                              10\n",
       "Sector 1 HSR Layout                   10\n",
       "Dairy Circle                          10\n",
       "                                      ..\n",
       "1Channasandra                          1\n",
       "Hosahalli                              1\n",
       "Vijayabank bank layout                 1\n",
       "near Ramanashree California resort     1\n",
       "Abshot Layout                          1\n",
       "Name: location, Length: 1054, dtype: int64"
      ]
     },
     "execution_count": 34,
     "metadata": {},
     "output_type": "execute_result"
    }
   ],
   "source": [
    "location_count_less_10 = location_count[location_count <= 10]\n",
    "location_count_less_10"
   ]
  },
  {
   "cell_type": "code",
   "execution_count": 35,
   "id": "b9d36699",
   "metadata": {},
   "outputs": [],
   "source": [
    "data['location']=data['location'].apply(lambda x: 'other' if x in location_count_less_10 else x)"
   ]
  },
  {
   "cell_type": "code",
   "execution_count": 38,
   "id": "cae531c2",
   "metadata": {},
   "outputs": [
    {
     "data": {
      "text/plain": [
       "other                 2886\n",
       "Whitefield             541\n",
       "Sarjapur  Road         399\n",
       "Electronic City        304\n",
       "Kanakpura Road         273\n",
       "                      ... \n",
       "Nehru Nagar             11\n",
       "Banjara Layout          11\n",
       "LB Shastri Nagar        11\n",
       "Pattandur Agrahara      11\n",
       "Narayanapura            11\n",
       "Name: location, Length: 242, dtype: int64"
      ]
     },
     "execution_count": 38,
     "metadata": {},
     "output_type": "execute_result"
    }
   ],
   "source": [
    "data['location'].value_counts()"
   ]
  },
  {
   "cell_type": "markdown",
   "id": "736150a6",
   "metadata": {},
   "source": [
    "# outlier derection and removal"
   ]
  },
  {
   "cell_type": "code",
   "execution_count": 39,
   "id": "3dde6891",
   "metadata": {},
   "outputs": [
    {
     "data": {
      "text/html": [
       "<div>\n",
       "<style scoped>\n",
       "    .dataframe tbody tr th:only-of-type {\n",
       "        vertical-align: middle;\n",
       "    }\n",
       "\n",
       "    .dataframe tbody tr th {\n",
       "        vertical-align: top;\n",
       "    }\n",
       "\n",
       "    .dataframe thead th {\n",
       "        text-align: right;\n",
       "    }\n",
       "</style>\n",
       "<table border=\"1\" class=\"dataframe\">\n",
       "  <thead>\n",
       "    <tr style=\"text-align: right;\">\n",
       "      <th></th>\n",
       "      <th>total_sqft</th>\n",
       "      <th>bath</th>\n",
       "      <th>price</th>\n",
       "      <th>bhk</th>\n",
       "      <th>price_per_sqft</th>\n",
       "    </tr>\n",
       "  </thead>\n",
       "  <tbody>\n",
       "    <tr>\n",
       "      <th>count</th>\n",
       "      <td>13274.000000</td>\n",
       "      <td>13320.000000</td>\n",
       "      <td>13320.000000</td>\n",
       "      <td>13320.000000</td>\n",
       "      <td>1.327400e+04</td>\n",
       "    </tr>\n",
       "    <tr>\n",
       "      <th>mean</th>\n",
       "      <td>1559.626694</td>\n",
       "      <td>2.688814</td>\n",
       "      <td>112.565627</td>\n",
       "      <td>2.802778</td>\n",
       "      <td>7.907501e+03</td>\n",
       "    </tr>\n",
       "    <tr>\n",
       "      <th>std</th>\n",
       "      <td>1238.405258</td>\n",
       "      <td>1.338754</td>\n",
       "      <td>148.971674</td>\n",
       "      <td>1.294496</td>\n",
       "      <td>1.064296e+05</td>\n",
       "    </tr>\n",
       "    <tr>\n",
       "      <th>min</th>\n",
       "      <td>1.000000</td>\n",
       "      <td>1.000000</td>\n",
       "      <td>8.000000</td>\n",
       "      <td>1.000000</td>\n",
       "      <td>2.678298e+02</td>\n",
       "    </tr>\n",
       "    <tr>\n",
       "      <th>25%</th>\n",
       "      <td>1100.000000</td>\n",
       "      <td>2.000000</td>\n",
       "      <td>50.000000</td>\n",
       "      <td>2.000000</td>\n",
       "      <td>4.266865e+03</td>\n",
       "    </tr>\n",
       "    <tr>\n",
       "      <th>50%</th>\n",
       "      <td>1276.000000</td>\n",
       "      <td>2.000000</td>\n",
       "      <td>72.000000</td>\n",
       "      <td>3.000000</td>\n",
       "      <td>5.434306e+03</td>\n",
       "    </tr>\n",
       "    <tr>\n",
       "      <th>75%</th>\n",
       "      <td>1680.000000</td>\n",
       "      <td>3.000000</td>\n",
       "      <td>120.000000</td>\n",
       "      <td>3.000000</td>\n",
       "      <td>7.311746e+03</td>\n",
       "    </tr>\n",
       "    <tr>\n",
       "      <th>max</th>\n",
       "      <td>52272.000000</td>\n",
       "      <td>40.000000</td>\n",
       "      <td>3600.000000</td>\n",
       "      <td>43.000000</td>\n",
       "      <td>1.200000e+07</td>\n",
       "    </tr>\n",
       "  </tbody>\n",
       "</table>\n",
       "</div>"
      ],
      "text/plain": [
       "         total_sqft          bath         price           bhk  price_per_sqft\n",
       "count  13274.000000  13320.000000  13320.000000  13320.000000    1.327400e+04\n",
       "mean    1559.626694      2.688814    112.565627      2.802778    7.907501e+03\n",
       "std     1238.405258      1.338754    148.971674      1.294496    1.064296e+05\n",
       "min        1.000000      1.000000      8.000000      1.000000    2.678298e+02\n",
       "25%     1100.000000      2.000000     50.000000      2.000000    4.266865e+03\n",
       "50%     1276.000000      2.000000     72.000000      3.000000    5.434306e+03\n",
       "75%     1680.000000      3.000000    120.000000      3.000000    7.311746e+03\n",
       "max    52272.000000     40.000000   3600.000000     43.000000    1.200000e+07"
      ]
     },
     "execution_count": 39,
     "metadata": {},
     "output_type": "execute_result"
    }
   ],
   "source": [
    "data.describe()"
   ]
  },
  {
   "cell_type": "code",
   "execution_count": 40,
   "id": "dae505e8",
   "metadata": {},
   "outputs": [
    {
     "data": {
      "text/plain": [
       "count    13274.000000\n",
       "mean       575.074878\n",
       "std        388.205175\n",
       "min          0.250000\n",
       "25%        473.333333\n",
       "50%        552.500000\n",
       "75%        625.000000\n",
       "max      26136.000000\n",
       "dtype: float64"
      ]
     },
     "execution_count": 40,
     "metadata": {},
     "output_type": "execute_result"
    }
   ],
   "source": [
    "(data['total_sqft']/data['bhk']).describe()"
   ]
  },
  {
   "cell_type": "code",
   "execution_count": 42,
   "id": "81bce56b",
   "metadata": {},
   "outputs": [
    {
     "data": {
      "text/html": [
       "<div>\n",
       "<style scoped>\n",
       "    .dataframe tbody tr th:only-of-type {\n",
       "        vertical-align: middle;\n",
       "    }\n",
       "\n",
       "    .dataframe tbody tr th {\n",
       "        vertical-align: top;\n",
       "    }\n",
       "\n",
       "    .dataframe thead th {\n",
       "        text-align: right;\n",
       "    }\n",
       "</style>\n",
       "<table border=\"1\" class=\"dataframe\">\n",
       "  <thead>\n",
       "    <tr style=\"text-align: right;\">\n",
       "      <th></th>\n",
       "      <th>total_sqft</th>\n",
       "      <th>bath</th>\n",
       "      <th>price</th>\n",
       "      <th>bhk</th>\n",
       "      <th>price_per_sqft</th>\n",
       "    </tr>\n",
       "  </thead>\n",
       "  <tbody>\n",
       "    <tr>\n",
       "      <th>count</th>\n",
       "      <td>12530.000000</td>\n",
       "      <td>12530.000000</td>\n",
       "      <td>12530.000000</td>\n",
       "      <td>12530.000000</td>\n",
       "      <td>12530.000000</td>\n",
       "    </tr>\n",
       "    <tr>\n",
       "      <th>mean</th>\n",
       "      <td>1594.564544</td>\n",
       "      <td>2.559537</td>\n",
       "      <td>111.382401</td>\n",
       "      <td>2.650838</td>\n",
       "      <td>6303.979357</td>\n",
       "    </tr>\n",
       "    <tr>\n",
       "      <th>std</th>\n",
       "      <td>1261.271296</td>\n",
       "      <td>1.077938</td>\n",
       "      <td>152.077329</td>\n",
       "      <td>0.976678</td>\n",
       "      <td>4162.237981</td>\n",
       "    </tr>\n",
       "    <tr>\n",
       "      <th>min</th>\n",
       "      <td>300.000000</td>\n",
       "      <td>1.000000</td>\n",
       "      <td>8.440000</td>\n",
       "      <td>1.000000</td>\n",
       "      <td>267.829813</td>\n",
       "    </tr>\n",
       "    <tr>\n",
       "      <th>25%</th>\n",
       "      <td>1116.000000</td>\n",
       "      <td>2.000000</td>\n",
       "      <td>49.000000</td>\n",
       "      <td>2.000000</td>\n",
       "      <td>4210.526316</td>\n",
       "    </tr>\n",
       "    <tr>\n",
       "      <th>50%</th>\n",
       "      <td>1300.000000</td>\n",
       "      <td>2.000000</td>\n",
       "      <td>70.000000</td>\n",
       "      <td>3.000000</td>\n",
       "      <td>5294.117647</td>\n",
       "    </tr>\n",
       "    <tr>\n",
       "      <th>75%</th>\n",
       "      <td>1700.000000</td>\n",
       "      <td>3.000000</td>\n",
       "      <td>115.000000</td>\n",
       "      <td>3.000000</td>\n",
       "      <td>6916.666667</td>\n",
       "    </tr>\n",
       "    <tr>\n",
       "      <th>max</th>\n",
       "      <td>52272.000000</td>\n",
       "      <td>16.000000</td>\n",
       "      <td>3600.000000</td>\n",
       "      <td>16.000000</td>\n",
       "      <td>176470.588235</td>\n",
       "    </tr>\n",
       "  </tbody>\n",
       "</table>\n",
       "</div>"
      ],
      "text/plain": [
       "         total_sqft          bath         price           bhk  price_per_sqft\n",
       "count  12530.000000  12530.000000  12530.000000  12530.000000    12530.000000\n",
       "mean    1594.564544      2.559537    111.382401      2.650838     6303.979357\n",
       "std     1261.271296      1.077938    152.077329      0.976678     4162.237981\n",
       "min      300.000000      1.000000      8.440000      1.000000      267.829813\n",
       "25%     1116.000000      2.000000     49.000000      2.000000     4210.526316\n",
       "50%     1300.000000      2.000000     70.000000      3.000000     5294.117647\n",
       "75%     1700.000000      3.000000    115.000000      3.000000     6916.666667\n",
       "max    52272.000000     16.000000   3600.000000     16.000000   176470.588235"
      ]
     },
     "execution_count": 42,
     "metadata": {},
     "output_type": "execute_result"
    }
   ],
   "source": [
    "data = data [((data['total_sqft']/data['bhk']) >= 300)]\n",
    "data.describe()"
   ]
  },
  {
   "cell_type": "code",
   "execution_count": 43,
   "id": "e35312c4",
   "metadata": {},
   "outputs": [
    {
     "data": {
      "text/plain": [
       "(12530, 7)"
      ]
     },
     "execution_count": 43,
     "metadata": {},
     "output_type": "execute_result"
    }
   ],
   "source": [
    "data.shape"
   ]
  },
  {
   "cell_type": "code",
   "execution_count": 46,
   "id": "18630bc3",
   "metadata": {},
   "outputs": [
    {
     "data": {
      "text/html": [
       "<div>\n",
       "<style scoped>\n",
       "    .dataframe tbody tr th:only-of-type {\n",
       "        vertical-align: middle;\n",
       "    }\n",
       "\n",
       "    .dataframe tbody tr th {\n",
       "        vertical-align: top;\n",
       "    }\n",
       "\n",
       "    .dataframe thead th {\n",
       "        text-align: right;\n",
       "    }\n",
       "</style>\n",
       "<table border=\"1\" class=\"dataframe\">\n",
       "  <thead>\n",
       "    <tr style=\"text-align: right;\">\n",
       "      <th></th>\n",
       "      <th>total_sqft</th>\n",
       "      <th>bath</th>\n",
       "      <th>price</th>\n",
       "      <th>bhk</th>\n",
       "      <th>price_per_sqft</th>\n",
       "    </tr>\n",
       "  </thead>\n",
       "  <tbody>\n",
       "    <tr>\n",
       "      <th>count</th>\n",
       "      <td>7011.000000</td>\n",
       "      <td>7011.000000</td>\n",
       "      <td>7011.000000</td>\n",
       "      <td>7011.000000</td>\n",
       "      <td>7011.000000</td>\n",
       "    </tr>\n",
       "    <tr>\n",
       "      <th>mean</th>\n",
       "      <td>1467.307519</td>\n",
       "      <td>2.420625</td>\n",
       "      <td>83.375893</td>\n",
       "      <td>2.533875</td>\n",
       "      <td>5415.916539</td>\n",
       "    </tr>\n",
       "    <tr>\n",
       "      <th>std</th>\n",
       "      <td>876.986816</td>\n",
       "      <td>0.912160</td>\n",
       "      <td>71.338631</td>\n",
       "      <td>0.854351</td>\n",
       "      <td>1797.535814</td>\n",
       "    </tr>\n",
       "    <tr>\n",
       "      <th>min</th>\n",
       "      <td>300.000000</td>\n",
       "      <td>1.000000</td>\n",
       "      <td>10.000000</td>\n",
       "      <td>1.000000</td>\n",
       "      <td>2439.024390</td>\n",
       "    </tr>\n",
       "    <tr>\n",
       "      <th>25%</th>\n",
       "      <td>1101.000000</td>\n",
       "      <td>2.000000</td>\n",
       "      <td>50.000000</td>\n",
       "      <td>2.000000</td>\n",
       "      <td>4334.771897</td>\n",
       "    </tr>\n",
       "    <tr>\n",
       "      <th>50%</th>\n",
       "      <td>1270.000000</td>\n",
       "      <td>2.000000</td>\n",
       "      <td>65.310000</td>\n",
       "      <td>2.000000</td>\n",
       "      <td>5109.489051</td>\n",
       "    </tr>\n",
       "    <tr>\n",
       "      <th>75%</th>\n",
       "      <td>1600.000000</td>\n",
       "      <td>3.000000</td>\n",
       "      <td>91.465000</td>\n",
       "      <td>3.000000</td>\n",
       "      <td>6077.889719</td>\n",
       "    </tr>\n",
       "    <tr>\n",
       "      <th>max</th>\n",
       "      <td>30400.000000</td>\n",
       "      <td>16.000000</td>\n",
       "      <td>2100.000000</td>\n",
       "      <td>16.000000</td>\n",
       "      <td>24166.666667</td>\n",
       "    </tr>\n",
       "  </tbody>\n",
       "</table>\n",
       "</div>"
      ],
      "text/plain": [
       "         total_sqft         bath        price          bhk  price_per_sqft\n",
       "count   7011.000000  7011.000000  7011.000000  7011.000000     7011.000000\n",
       "mean    1467.307519     2.420625    83.375893     2.533875     5415.916539\n",
       "std      876.986816     0.912160    71.338631     0.854351     1797.535814\n",
       "min      300.000000     1.000000    10.000000     1.000000     2439.024390\n",
       "25%     1101.000000     2.000000    50.000000     2.000000     4334.771897\n",
       "50%     1270.000000     2.000000    65.310000     2.000000     5109.489051\n",
       "75%     1600.000000     3.000000    91.465000     3.000000     6077.889719\n",
       "max    30400.000000    16.000000  2100.000000    16.000000    24166.666667"
      ]
     },
     "execution_count": 46,
     "metadata": {},
     "output_type": "execute_result"
    }
   ],
   "source": [
    "def remove_outlier_sqft(df):\n",
    "    df_output = pd.DataFrame()\n",
    "    for key,subdf in df.groupby('location'):\n",
    "        m = np.mean(subdf.price_per_sqft)\n",
    "        \n",
    "        st = np.std(subdf.price_per_sqft)\n",
    "        \n",
    "        \n",
    "        gen_df = subdf[(subdf.price_per_sqft > (m-st)) & (subdf.price_per_sqft <= (m+st)) ]\n",
    "        df_output = pd.concat([df_output,gen_df],ignore_index  = True)\n",
    "    return df_output\n",
    "data = remove_outlier_sqft(data)\n",
    "data.describe()"
   ]
  },
  {
   "cell_type": "code",
   "execution_count": 53,
   "id": "28a91fd3",
   "metadata": {},
   "outputs": [],
   "source": [
    "def bhk_outlier_remove(df):\n",
    "    exclude_indices = np.array([])\n",
    "    for location, location_df in df.groupby('location'):\n",
    "        bhk_stats = {}\n",
    "        for bhk, bhk_df in location_df.groupby('bhk'):\n",
    "            bhk_stats[bhk] = {\n",
    "                'mean' : np.mean(bhk_df.price_per_sqft),\n",
    "                'std' : np.std(bhk_df.price_per_sqft),\n",
    "                'count': bhk_df.shape[0]\n",
    "            }\n",
    "        print(location, bhk_stats)\n",
    "        for bhk, bhk_df in location_df.groupby('bhk'):\n",
    "            stats = bhk_stats.get(bhk-1)\n",
    "            if stats and stats['count'] > 5:\n",
    "                exclude_indices = np.append (exclude_indices,bhk_df[bhk_df.price_per_sqft < (stats['mean'])].index.values)\n",
    "    return df.drop(exclude_indices,axis='index')"
   ]
  },
  {
   "cell_type": "code",
   "execution_count": 55,
   "id": "2cc825e1",
   "metadata": {},
   "outputs": [
    {
     "name": "stdout",
     "output_type": "stream",
     "text": [
      "1st Block Jayanagar {2: {'mean': 11983.805668016194, 'std': 0.0, 'count': 1}, 3: {'mean': 12217.586912065439, 'std': 315.7464212678942, 'count': 2}}\n",
      "1st Phase JP Nagar {2: {'mean': 7643.773424921015, 'std': 615.8302146298854, 'count': 6}, 3: {'mean': 8592.243752498962, 'std': 637.5601190260574, 'count': 5}, 4: {'mean': 8669.520634866918, 'std': 180.03688725697612, 'count': 2}}\n",
      "2nd Phase Judicial Layout {2: {'mean': 3500.0, 'std': 0.0, 'count': 2}, 3: {'mean': 3500.0, 'std': 0.0, 'count': 4}}\n",
      "2nd Stage Nagarbhavi {4: {'mean': 14938.271604938273, 'std': 285.8231334022281, 'count': 3}, 6: {'mean': 15033.333333333334, 'std': 0.0, 'count': 1}}\n",
      "5th Block Hbr Layout {2: {'mean': 4755.410708222867, 'std': 374.06419031565235, 'count': 3}, 3: {'mean': 5511.811023622047, 'std': 0.0, 'count': 1}}\n",
      "5th Phase JP Nagar {1: {'mean': 5000.0, 'std': 0.0, 'count': 1}, 2: {'mean': 4972.144739004786, 'std': 220.23467296480592, 'count': 10}, 3: {'mean': 5034.482758620689, 'std': 0.0, 'count': 1}}\n",
      "6th Phase JP Nagar {2: {'mean': 6222.644576284765, 'std': 510.6388567987074, 'count': 6}, 3: {'mean': 7237.5690607734805, 'std': 0.0, 'count': 1}, 4: {'mean': 7704.160246533128, 'std': 0.0, 'count': 1}}\n",
      "7th Phase JP Nagar {1: {'mean': 6133.333333333334, 'std': 133.33333333333348, 'count': 2}, 2: {'mean': 6753.687790875089, 'std': 587.3133946328641, 'count': 28}, 3: {'mean': 7076.36162103509, 'std': 223.17311471530766, 'count': 27}, 4: {'mean': 7510.986815821015, 'std': 0.0, 'count': 1}}\n",
      "8th Phase JP Nagar {2: {'mean': 4299.132573613825, 'std': 466.61859492217127, 'count': 15}, 3: {'mean': 4961.579636105475, 'std': 326.71307541011487, 'count': 6}, 4: {'mean': 4539.6147062813725, 'std': 195.35428340140427, 'count': 3}, 5: {'mean': 4335.260115606937, 'std': 0.0, 'count': 1}}\n",
      "9th Phase JP Nagar {2: {'mean': 4685.7776285134805, 'std': 399.9054005431971, 'count': 13}, 3: {'mean': 4994.272423158101, 'std': 88.25372511507771, 'count': 3}}\n",
      "AECS Layout {2: {'mean': 5033.644292054078, 'std': 343.03255594511603, 'count': 3}, 3: {'mean': 4500.0, 'std': 0.0, 'count': 1}}\n",
      "Abbigere {1: {'mean': 3921.5686274509803, 'std': 0.0, 'count': 1}, 2: {'mean': 4058.165803016323, 'std': 62.23518728011486, 'count': 13}}\n",
      "Akshaya Nagar {2: {'mean': 5057.558733016241, 'std': 298.4112358390812, 'count': 11}, 3: {'mean': 5231.826480645761, 'std': 96.3914362866487, 'count': 13}}\n",
      "Ambalipura {1: {'mean': 5690.909090909091, 'std': 0.0, 'count': 1}, 2: {'mean': 5892.155596111222, 'std': 430.59675035074747, 'count': 6}, 3: {'mean': 6085.858585858587, 'std': 25.252525252525174, 'count': 2}, 4: {'mean': 5843.137254901961, 'std': 0.0, 'count': 1}}\n",
      "Ambedkar Nagar {2: {'mean': 6454.091928430547, 'std': 182.0843219299883, 'count': 5}, 3: {'mean': 6497.450719097469, 'std': 221.95137583086776, 'count': 16}}\n",
      "Amruthahalli {2: {'mean': 4783.865477795764, 'std': 451.73980154156817, 'count': 8}, 3: {'mean': 5862.068965517241, 'std': 0.0, 'count': 1}}\n",
      "Anandapura {2: {'mean': 4068.3719052022184, 'std': 436.7337950934054, 'count': 10}}\n",
      "Ananth Nagar {1: {'mean': 2800.0, 'std': 0.0, 'count': 4}, 2: {'mean': 2930.326129929578, 'std': 122.5429873480584, 'count': 10}, 3: {'mean': 3184.230477634572, 'std': 0.0, 'count': 1}}\n",
      "Anekal {1: {'mean': 3220.6301918317804, 'std': 178.2547191051602, 'count': 3}, 2: {'mean': 3277.237106064244, 'std': 356.0617596003769, 'count': 18}, 3: {'mean': 3883.0515297906604, 'std': 76.70165096125638, 'count': 3}, 4: {'mean': 3000.0, 'std': 0.0, 'count': 1}}\n",
      "Anjanapura {2: {'mean': 3451.5654968214635, 'std': 402.7964034804156, 'count': 7}, 3: {'mean': 4132.744675800326, 'std': 617.1196758003257, 'count': 2}, 4: {'mean': 3852.102102102102, 'std': 796.5465465465463, 'count': 2}}\n",
      "Ardendale {2: {'mean': 5596.405228758171, 'std': 122.54901960784309, 'count': 2}, 3: {'mean': 5547.820269422975, 'std': 233.9317299937368, 'count': 7}, 4: {'mean': 6330.079346466542, 'std': 76.17065353345834, 'count': 2}}\n",
      "Arekere {1: {'mean': 4666.666666666667, 'std': 0.0, 'count': 1}, 2: {'mean': 4992.111683383031, 'std': 309.9774867133308, 'count': 5}, 3: {'mean': 5336.0626636488705, 'std': 123.70745129365787, 'count': 2}, 4: {'mean': 5239.852398523985, 'std': 0.0, 'count': 1}}\n",
      "Attibele {1: {'mean': 2792.274701990125, 'std': 300.84058633886724, 'count': 16}, 2: {'mean': 3578.5376003357997, 'std': 309.522492502898, 'count': 6}, 3: {'mean': 3823.529411764706, 'std': 0.0, 'count': 1}, 4: {'mean': 3300.0, 'std': 0.0, 'count': 1}}\n",
      "BEML Layout {2: {'mean': 5232.857855485143, 'std': 385.8365590815382, 'count': 5}, 3: {'mean': 4250.0, 'std': 0.0, 'count': 4}}\n",
      "BTM 2nd Stage {2: {'mean': 5621.791028153005, 'std': 795.7682556051348, 'count': 14}, 3: {'mean': 9672.586872586873, 'std': 348.9048858081479, 'count': 3}}\n",
      "BTM Layout {2: {'mean': 5073.776447337828, 'std': 424.90705275056126, 'count': 4}, 3: {'mean': 5459.6885187562075, 'std': 259.49945891732654, 'count': 4}, 6: {'mean': 5000.0, 'std': 0.0, 'count': 1}}\n",
      "Babusapalaya {2: {'mean': 3780.1767999825065, 'std': 197.36203581484352, 'count': 7}, 3: {'mean': 4096.83426443203, 'std': 0.0, 'count': 1}}\n",
      "Badavala Nagar {3: {'mean': 6328.647925033467, 'std': 0.0, 'count': 3}}\n",
      "Balagere {1: {'mean': 6306.941293250142, 'std': 289.3708643087989, 'count': 5}, 2: {'mean': 6172.125075664081, 'std': 349.71756141520456, 'count': 15}}\n",
      "Banashankari {2: {'mean': 5241.843709056182, 'std': 848.6642597108407, 'count': 25}, 3: {'mean': 6188.885853901199, 'std': 441.16606465592434, 'count': 14}}\n",
      "Banashankari Stage II {2: {'mean': 8701.636799298034, 'std': 1030.287972433991, 'count': 4}, 3: {'mean': 10759.920634920636, 'std': 3122.2285518532362, 'count': 4}, 4: {'mean': 12500.0, 'std': 0.0, 'count': 1}, 5: {'mean': 15178.57142857143, 'std': 0.0, 'count': 1}}\n",
      "Banashankari Stage III {2: {'mean': 4854.365806049142, 'std': 246.07087517356558, 'count': 2}, 3: {'mean': 5330.43635317069, 'std': 1014.1370099612311, 'count': 10}, 4: {'mean': 7000.0, 'std': 0.0, 'count': 1}, 6: {'mean': 5000.0, 'std': 0.0, 'count': 1}}\n",
      "Banashankari Stage V {2: {'mean': 3456.038647342996, 'std': 0.0, 'count': 1}, 3: {'mean': 3318.8995777000623, 'std': 266.76062759969415, 'count': 7}}\n",
      "Banashankari Stage VI {2: {'mean': 5072.0195454829345, 'std': 22.81429179660186, 'count': 3}, 3: {'mean': 5006.925310122253, 'std': 23.924063833179062, 'count': 3}, 4: {'mean': 4062.5, 'std': 104.16666666666674, 'count': 2}}\n",
      "Banaswadi {2: {'mean': 5102.334455892999, 'std': 232.12342079171077, 'count': 7}}\n",
      "Banjara Layout {2: {'mean': 6002.380952380952, 'std': 169.04761904761926, 'count': 2}, 3: {'mean': 5600.0, 'std': 0.0, 'count': 1}}\n",
      "Bannerghatta {2: {'mean': 8130.841121495327, 'std': 0.0, 'count': 1}, 3: {'mean': 7272.145563284804, 'std': 692.9416396479921, 'count': 3}, 4: {'mean': 8300.132802124834, 'std': 0.0, 'count': 1}}\n",
      "Bannerghatta Road {1: {'mean': 5240.569561157796, 'std': 462.07333204026975, 'count': 4}, 2: {'mean': 5375.142157904245, 'std': 606.9132952382778, 'count': 43}, 3: {'mean': 5881.085474869855, 'std': 334.61452002635673, 'count': 22}, 4: {'mean': 5491.990846681922, 'std': 0.0, 'count': 1}, 5: {'mean': 5851.851851851852, 'std': 0.0, 'count': 1}}\n",
      "Basavangudi {2: {'mean': 9809.882684882685, 'std': 319.0494066457307, 'count': 4}, 3: {'mean': 9543.449094590647, 'std': 272.4119984573425, 'count': 6}, 4: {'mean': 10095.80105992662, 'std': 95.80105992662084, 'count': 2}}\n",
      "Basaveshwara Nagar {2: {'mean': 6979.166666666667, 'std': 345.481748995354, 'count': 4}, 3: {'mean': 7834.767884859602, 'std': 59.968957245661386, 'count': 2}, 5: {'mean': 9222.222222222223, 'std': 0.0, 'count': 1}}\n",
      "Battarahalli {2: {'mean': 4766.676677669483, 'std': 299.9492392009324, 'count': 2}, 3: {'mean': 4927.962769934476, 'std': 263.06568303548164, 'count': 7}}\n",
      "Begur {2: {'mean': 4961.668185533498, 'std': 39.10751993914706, 'count': 3}, 3: {'mean': 4578.6664224078995, 'std': 383.96351680387914, 'count': 7}}\n",
      "Begur Road {2: {'mean': 3695.8537596396795, 'std': 110.39246693886162, 'count': 28}, 3: {'mean': 3749.351445346142, 'std': 65.87059088395657, 'count': 10}}\n",
      "Bellandur {2: {'mean': 5374.585937333719, 'std': 651.1893214966851, 'count': 34}, 3: {'mean': 6035.444006494715, 'std': 185.0960138183915, 'count': 7}, 4: {'mean': 5382.716049382716, 'std': 0.0, 'count': 1}}\n",
      "Benson Town {2: {'mean': 16290.900682808988, 'std': 296.7770423094953, 'count': 2}, 3: {'mean': 14313.731148045554, 'std': 2420.56421489562, 'count': 3}, 4: {'mean': 14856.497304850036, 'std': 282.5062734599014, 'count': 2}}\n",
      "Bharathi Nagar {2: {'mean': 4804.897354317073, 'std': 400.86601918774875, 'count': 6}}\n",
      "Bhoganhalli {2: {'mean': 5417.416718889453, 'std': 285.36806332317167, 'count': 12}, 3: {'mean': 5928.143712574851, 'std': 0.0, 'count': 1}, 4: {'mean': 5362.828959831244, 'std': 6.978537635827706, 'count': 2}}\n",
      "Billekahalli {2: {'mean': 5775.201480920527, 'std': 219.3728601443426, 'count': 5}, 3: {'mean': 5756.029285099052, 'std': 377.6060675178404, 'count': 3}}\n",
      "Binny Pete {1: {'mean': 7906.698564593302, 'std': 275.1196172248806, 'count': 2}, 2: {'mean': 8937.728937728938, 'std': 0.0, 'count': 1}, 3: {'mean': 8229.765114049454, 'std': 364.2778880137573, 'count': 3}}\n",
      "Bisuvanahalli {2: {'mean': 3961.712495649147, 'std': 273.0745489667117, 'count': 8}, 3: {'mean': 4173.534716498848, 'std': 123.72862261449733, 'count': 11}}\n",
      "Bommanahalli {1: {'mean': 4854.368932038835, 'std': 0.0, 'count': 1}, 2: {'mean': 4482.917522738782, 'std': 328.0566561024265, 'count': 4}, 3: {'mean': 4518.591318591319, 'std': 248.8697560950488, 'count': 3}, 4: {'mean': 4047.6190476190477, 'std': 0.0, 'count': 1}, 8: {'mean': 4666.666666666667, 'std': 0.0, 'count': 1}}\n",
      "Bommasandra {2: {'mean': 3919.0564864466255, 'std': 147.41849388066618, 'count': 15}, 3: {'mean': 3953.1135531135533, 'std': 0.0, 'count': 1}}\n",
      "Bommasandra Industrial Area {2: {'mean': 2887.892987573868, 'std': 0.47920744469383775, 'count': 11}, 3: {'mean': 2888.603896103896, 'std': 0.032467532467762794, 'count': 2}}\n",
      "Bommenahalli {3: {'mean': 7792.207792207792, 'std': 0.0, 'count': 1}, 4: {'mean': 8285.183834012647, 'std': 385.6737035142388, 'count': 5}}\n",
      "Brookefield {2: {'mean': 5883.474602740435, 'std': 599.3843325486375, 'count': 14}, 3: {'mean': 6606.783610367856, 'std': 406.49952238323425, 'count': 4}, 4: {'mean': 5833.333333333333, 'std': 0.0, 'count': 1}}\n",
      "Budigere {1: {'mean': 5097.18875502008, 'std': 152.38728135250568, 'count': 3}, 2: {'mean': 4985.011047920985, 'std': 120.69878452213842, 'count': 21}, 3: {'mean': 5136.984403835908, 'std': 76.7380885467701, 'count': 10}}\n",
      "CV Raman Nagar {2: {'mean': 5047.111950081954, 'std': 334.6780927274826, 'count': 14}, 3: {'mean': 5496.256364180893, 'std': 106.30955500318868, 'count': 3}}\n",
      "Chamrajpet {2: {'mean': 8383.386020372322, 'std': 2880.6760025498843, 'count': 4}, 3: {'mean': 7141.805995187703, 'std': 751.0857983228121, 'count': 3}, 4: {'mean': 10827.574839290468, 'std': 1880.2064182378372, 'count': 2}}\n",
      "Chandapura {1: {'mean': 2574.4732011211217, 'std': 67.34496580392756, 'count': 16}, 2: {'mean': 2845.4664952324742, 'std': 165.662085226348, 'count': 14}, 3: {'mean': 2849.816996400908, 'std': 139.37231575716368, 'count': 8}}\n"
     ]
    },
    {
     "name": "stdout",
     "output_type": "stream",
     "text": [
      "Channasandra {2: {'mean': 3580.623543870592, 'std': 419.55833941803337, 'count': 22}, 3: {'mean': 4079.9753419331755, 'std': 396.0613612782636, 'count': 4}, 6: {'mean': 4285.714285714285, 'std': 0.0, 'count': 1}}\n",
      "Chikka Tirupathi {3: {'mean': 4206.788459307797, 'std': 164.73959416764959, 'count': 3}, 4: {'mean': 4444.036451353524, 'std': 213.56259095546815, 'count': 4}}\n",
      "Chikkabanavar {2: {'mean': 3979.526682999282, 'std': 296.21104114438486, 'count': 3}, 3: {'mean': 3484.848484848485, 'std': 0.0, 'count': 1}, 4: {'mean': 3252.032520325203, 'std': 0.0, 'count': 1}, 5: {'mean': 3645.833333333333, 'std': 395.83333333333326, 'count': 2}}\n",
      "Chikkalasandra {2: {'mean': 4312.606033814516, 'std': 244.18049013636437, 'count': 10}, 3: {'mean': 4350.2898387416235, 'std': 0.21775721971077153, 'count': 6}}\n",
      "Choodasandra {2: {'mean': 4668.215378091781, 'std': 386.24867053611104, 'count': 11}, 3: {'mean': 5083.886685406672, 'std': 72.1624188417433, 'count': 4}}\n",
      "Cooke Town {2: {'mean': 11695.906432748538, 'std': 0.0, 'count': 1}, 3: {'mean': 10995.771808923846, 'std': 862.3595954727051, 'count': 3}, 4: {'mean': 11016.71535215839, 'std': 375.6897111327489, 'count': 2}}\n",
      "Cox Town {2: {'mean': 7895.052811432121, 'std': 1107.7416256287531, 'count': 3}, 3: {'mean': 8354.140752664569, 'std': 749.8906205870944, 'count': 3}}\n",
      "Cunningham Road {3: {'mean': 19871.500827162385, 'std': 1176.4667668003326, 'count': 7}}\n",
      "Dasanapura {2: {'mean': 5335.809552475976, 'std': 164.5050854792369, 'count': 4}, 3: {'mean': 5032.659409020218, 'std': 255.05443234836684, 'count': 2}}\n",
      "Dasarahalli {2: {'mean': 5050.636116209887, 'std': 31.331096904867536, 'count': 2}, 3: {'mean': 5324.248120300752, 'std': 390.03759398496277, 'count': 2}}\n",
      "Devanahalli {1: {'mean': 4994.719890302452, 'std': 115.3234757439083, 'count': 4}, 2: {'mean': 4841.142926236739, 'std': 214.22573419204844, 'count': 11}, 3: {'mean': 5228.929566642097, 'std': 109.20604144361326, 'count': 5}}\n",
      "Devarachikkanahalli {1: {'mean': 3902.439024390244, 'std': 0.0, 'count': 1}, 2: {'mean': 4273.024817221443, 'std': 456.91172323010073, 'count': 6}, 3: {'mean': 4480.115244122035, 'std': 81.28826464989424, 'count': 2}}\n",
      "Dodda Nekkundi {2: {'mean': 4232.117479759768, 'std': 386.5373050716046, 'count': 17}, 3: {'mean': 5327.576823454712, 'std': 343.3496941171725, 'count': 2}}\n",
      "Doddaballapur {1: {'mean': 7492.354740061162, 'std': 0.0, 'count': 1}, 3: {'mean': 7382.216878864392, 'std': 357.7212016309636, 'count': 2}, 4: {'mean': 8035.714285714286, 'std': 297.6190476190477, 'count': 2}}\n",
      "Doddakallasandra {2: {'mean': 3999.2308260676814, 'std': 0.38543864505598946, 'count': 5}, 3: {'mean': 3999.4695049973843, 'std': 0.3068175498332698, 'count': 4}}\n",
      "Doddathoguru {1: {'mean': 3400.0, 'std': 0.0, 'count': 1}, 2: {'mean': 3585.63783778764, 'std': 272.5053536395599, 'count': 9}, 3: {'mean': 3936.189515714262, 'std': 195.42316280686137, 'count': 3}}\n",
      "Domlur {1: {'mean': 8784.054487179488, 'std': 190.3044871794873, 'count': 2}, 2: {'mean': 7859.818084537186, 'std': 235.42001070090964, 'count': 2}, 3: {'mean': 7944.6673671861245, 'std': 824.7466905230966, 'count': 9}}\n",
      "Dommasandra {2: {'mean': 3070.632460642242, 'std': 371.73111413954126, 'count': 6}}\n",
      "EPIP Zone {2: {'mean': 6659.836551869431, 'std': 273.52695834764324, 'count': 5}, 3: {'mean': 6835.684815898264, 'std': 153.97310420346815, 'count': 6}}\n",
      "Electronic City {1: {'mean': 4750.4370276145055, 'std': 457.25700925929897, 'count': 13}, 2: {'mean': 5111.736233384249, 'std': 216.40889346890498, 'count': 39}, 3: {'mean': 5067.057797539109, 'std': 262.68181493019347, 'count': 23}, 4: {'mean': 4928.003877204841, 'std': 40.94022217404063, 'count': 2}}\n",
      "Electronic City Phase II {1: {'mean': 3706.521739130435, 'std': 793.4782608695652, 'count': 2}, 2: {'mean': 3172.686684928476, 'std': 522.3499882055215, 'count': 49}, 3: {'mean': 3873.5334853824675, 'std': 353.8731207913646, 'count': 6}, 4: {'mean': 4388.689138576779, 'std': 55.35580524344596, 'count': 2}}\n",
      "Electronics City Phase 1 {1: {'mean': 4788.43027980959, 'std': 161.48343147433337, 'count': 3}, 2: {'mean': 4884.923478794275, 'std': 249.93157999673988, 'count': 21}, 3: {'mean': 5202.504303570314, 'std': 145.42697431896343, 'count': 9}}\n",
      "Frazer Town {2: {'mean': 9256.913801828407, 'std': 830.6145881127068, 'count': 4}, 3: {'mean': 9890.082194468047, 'std': 696.2533985532463, 'count': 10}, 4: {'mean': 9964.098488532813, 'std': 54.21013836342478, 'count': 3}}\n",
      "GM Palaya {2: {'mean': 4293.859649122807, 'std': 0.0, 'count': 1}, 3: {'mean': 4617.56465480063, 'std': 259.02087624599636, 'count': 3}}\n",
      "Garudachar Palya {2: {'mean': 4585.022852455174, 'std': 9.882621077362764, 'count': 7}, 3: {'mean': 4591.491354132864, 'std': 2.661396083079893, 'count': 5}}\n",
      "Giri Nagar {3: {'mean': 17777.777777777777, 'std': 0.0, 'count': 1}, 4: {'mean': 16666.666666666668, 'std': 0.0, 'count': 2}, 6: {'mean': 16666.666666666668, 'std': 0.0, 'count': 1}}\n",
      "Gollarapalya Hosahalli {2: {'mean': 4333.977320540002, 'std': 94.72064225893428, 'count': 2}, 3: {'mean': 4371.0791818826265, 'std': 89.55821518628356, 'count': 3}}\n",
      "Gottigere {2: {'mean': 4375.420645702266, 'std': 368.40958174820514, 'count': 11}, 3: {'mean': 4529.018983619805, 'std': 95.08533114245462, 'count': 5}, 4: {'mean': 4400.0, 'std': 0.0, 'count': 1}}\n",
      "Green Glen Layout {3: {'mean': 6632.784363569265, 'std': 208.00485094682134, 'count': 13}, 4: {'mean': 7024.827024827025, 'std': 73.67494342033235, 'count': 3}}\n",
      "Gubbalala {2: {'mean': 5616.4287221323575, 'std': 192.69990857303628, 'count': 2}, 3: {'mean': 5704.343190440851, 'std': 180.70069828869492, 'count': 3}, 4: {'mean': 4875.0, 'std': 0.0, 'count': 1}, 5: {'mean': 5486.381322957199, 'std': 0.0, 'count': 1}}\n",
      "Gunjur {2: {'mean': 4029.156096500408, 'std': 333.0560000700869, 'count': 10}, 3: {'mean': 4620.663546255507, 'std': 38.5880445610631, 'count': 4}, 4: {'mean': 4750.0, 'std': 0.0, 'count': 1}}\n",
      "HAL 2nd Stage {2: {'mean': 24166.666666666668, 'std': 0.0, 'count': 1}, 3: {'mean': 20134.228187919463, 'std': 0.0, 'count': 1}}\n",
      "HBR Layout {2: {'mean': 5467.675694569001, 'std': 41.96617870923501, 'count': 2}, 3: {'mean': 6718.224920185002, 'std': 1116.5076173869681, 'count': 6}}\n",
      "HRBR Layout {2: {'mean': 6485.699430298737, 'std': 362.6870025772982, 'count': 7}, 3: {'mean': 6950.7346585998275, 'std': 433.8807260155577, 'count': 2}}\n",
      "HSR Layout {2: {'mean': 4460.434835728772, 'std': 579.3026317790008, 'count': 26}, 3: {'mean': 5007.415952553642, 'std': 300.12101498992723, 'count': 5}}\n",
      "Haralur Road {2: {'mean': 4525.830391391998, 'std': 737.6000679277506, 'count': 48}, 3: {'mean': 5405.642657410529, 'std': 354.25919026713274, 'count': 17}, 4: {'mean': 5533.838710309299, 'std': 85.1469152525514, 'count': 5}}\n",
      "Harlur {2: {'mean': 6516.343328260314, 'std': 279.7122507479036, 'count': 24}, 3: {'mean': 6917.748239840883, 'std': 275.801603420798, 'count': 12}, 4: {'mean': 6909.303230829117, 'std': 97.31413001167766, 'count': 2}}\n",
      "Hebbal {2: {'mean': 7117.330235922699, 'std': 498.9682092093151, 'count': 27}, 3: {'mean': 7590.746072050103, 'std': 312.426066442082, 'count': 22}, 4: {'mean': 7363.264542748679, 'std': 362.16262714188963, 'count': 14}}\n",
      "Hebbal Kempapura {2: {'mean': 8888.888888888889, 'std': 0.0, 'count': 1}, 3: {'mean': 9240.422731448087, 'std': 609.05194511536, 'count': 8}, 5: {'mean': 8552.631578947368, 'std': 219.29824561403439, 'count': 2}}\n",
      "Hegde Nagar {2: {'mean': 6425.0, 'std': 175.0, 'count': 2}, 3: {'mean': 6578.743383947607, 'std': 188.509564955147, 'count': 17}, 4: {'mean': 6916.666666666667, 'std': 0.0, 'count': 1}, 6: {'mean': 7000.0, 'std': 0.0, 'count': 1}}\n",
      "Hennur {2: {'mean': 4465.63269248882, 'std': 229.08777914057958, 'count': 29}, 3: {'mean': 4600.109259765091, 'std': 0.0, 'count': 1}, 4: {'mean': 4591.981802672733, 'std': 0.0, 'count': 1}}\n",
      "Hennur Road {2: {'mean': 5747.348736117465, 'std': 412.7592613891346, 'count': 31}, 3: {'mean': 6221.707884645286, 'std': 349.3472010941706, 'count': 36}}\n",
      "Hoodi {1: {'mean': 5998.5935302391, 'std': 0.0, 'count': 1}, 2: {'mean': 5634.217686697808, 'std': 246.30155994659216, 'count': 18}, 3: {'mean': 5859.794851478379, 'std': 119.51382301096974, 'count': 6}}\n",
      "Horamavu Agara {1: {'mean': 4320.0, 'std': 0.0, 'count': 1}, 2: {'mean': 4041.637864437461, 'std': 288.0171088523754, 'count': 11}, 3: {'mean': 4587.243039555178, 'std': 128.75626993463052, 'count': 4}}\n",
      "Horamavu Banaswadi {2: {'mean': 3979.020628010575, 'std': 164.43807168798713, 'count': 16}, 3: {'mean': 4160.21837445204, 'std': 63.38411002000976, 'count': 2}}\n",
      "Hormavu {1: {'mean': 4849.91423670669, 'std': 0.0, 'count': 1}, 2: {'mean': 4779.402827282225, 'std': 275.4990575767388, 'count': 21}, 3: {'mean': 4933.159203942436, 'std': 68.88682042807436, 'count': 4}, 4: {'mean': 5039.439088518843, 'std': 0.0, 'count': 1}}\n",
      "Hosa Road {1: {'mean': 4799.375, 'std': 199.375, 'count': 2}, 2: {'mean': 4981.372495663128, 'std': 516.3229675367295, 'count': 13}, 3: {'mean': 5437.265075521735, 'std': 291.98662515853766, 'count': 2}}\n",
      "Hosakerehalli {2: {'mean': 9251.022494887526, 'std': 1582.3108384458083, 'count': 2}, 3: {'mean': 9683.079597911947, 'std': 1021.9019046998932, 'count': 8}, 4: {'mean': 10748.433893834488, 'std': 0.0, 'count': 1}, 5: {'mean': 10041.666666666666, 'std': 375.0, 'count': 2}}\n",
      "Hoskote {2: {'mean': 3257.4687183767637, 'std': 384.83686839362963, 'count': 6}, 3: {'mean': 3567.076506419477, 'std': 270.5338668409885, 'count': 4}}\n",
      "Hosur Road {1: {'mean': 4565.217391304348, 'std': 0.0, 'count': 1}, 2: {'mean': 5823.670986511504, 'std': 407.50550979422667, 'count': 4}, 3: {'mean': 5691.037524732235, 'std': 448.2977999810408, 'count': 8}, 4: {'mean': 6500.0, 'std': 0.0, 'count': 1}, 5: {'mean': 5000.0, 'std': 0.0, 'count': 1}}\n",
      "Hulimavu {1: {'mean': 4717.919296232549, 'std': 273.47485178810484, 'count': 2}, 2: {'mean': 5307.538309650334, 'std': 798.4194217886862, 'count': 21}, 3: {'mean': 6383.967684616723, 'std': 628.2313474814865, 'count': 4}, 4: {'mean': 6250.0, 'std': 0.0, 'count': 2}}\n",
      "ISRO Layout {2: {'mean': 6000.0, 'std': 0.0, 'count': 2}, 3: {'mean': 5190.839694656489, 'std': 0.0, 'count': 1}, 4: {'mean': 6071.428571428572, 'std': 0.0, 'count': 1}, 6: {'mean': 5681.818181818182, 'std': 0.0, 'count': 1}}\n"
     ]
    },
    {
     "name": "stdout",
     "output_type": "stream",
     "text": [
      "ITPL {3: {'mean': 4676.666666666667, 'std': 0.0, 'count': 3}, 4: {'mean': 5293.33921482135, 'std': 0.0, 'count': 1}}\n",
      "Iblur Village {3: {'mean': 7365.989021313252, 'std': 378.02706539161306, 'count': 6}, 4: {'mean': 7605.672969966629, 'std': 152.94771968854275, 'count': 2}, 5: {'mean': 7753.573598412542, 'std': 47.31793204808173, 'count': 2}}\n",
      "Indira Nagar {1: {'mean': 14000.0, 'std': 0.0, 'count': 1}, 2: {'mean': 9898.26684296638, 'std': 1471.8407389095885, 'count': 10}, 3: {'mean': 11900.429370370763, 'std': 715.7317920776104, 'count': 8}, 4: {'mean': 13392.857142857143, 'std': 357.1428571428569, 'count': 2}}\n",
      "JP Nagar {1: {'mean': 5800.0, 'std': 1199.9999999999995, 'count': 2}, 2: {'mean': 6084.6433769501555, 'std': 826.3228428151177, 'count': 12}, 3: {'mean': 6818.039869607041, 'std': 202.9906094125895, 'count': 6}, 4: {'mean': 6800.735214617796, 'std': 0.0, 'count': 1}, 5: {'mean': 6793.478260869565, 'std': 0.0, 'count': 1}, 7: {'mean': 5925.925925925926, 'std': 0.0, 'count': 1}}\n",
      "Jakkur {2: {'mean': 6141.915858520615, 'std': 382.431036751733, 'count': 18}, 3: {'mean': 6474.649670118207, 'std': 206.78762115679882, 'count': 15}}\n",
      "Jalahalli {1: {'mean': 6166.666666666667, 'std': 0.0, 'count': 1}, 2: {'mean': 6521.901924886169, 'std': 528.7353972197692, 'count': 6}, 3: {'mean': 6989.651300166015, 'std': 74.22735555682462, 'count': 4}}\n",
      "Jalahalli East {1: {'mean': 5333.333333333333, 'std': 0.0, 'count': 1}, 2: {'mean': 5148.514851485149, 'std': 0.0, 'count': 2}, 3: {'mean': 4804.029304029304, 'std': 42.12454212454213, 'count': 2}}\n",
      "Jigani {2: {'mean': 5211.258447505233, 'std': 253.10556252011804, 'count': 12}, 3: {'mean': 5428.639271153898, 'std': 145.2167586043017, 'count': 8}, 4: {'mean': 5251.539444638085, 'std': 0.0, 'count': 1}}\n",
      "Judicial Layout {3: {'mean': 6895.570698128242, 'std': 1721.3302715968377, 'count': 5}}\n",
      "KR Puram {1: {'mean': 3921.5686274509803, 'std': 0.0, 'count': 1}, 2: {'mean': 4183.960755029204, 'std': 444.9240794023961, 'count': 35}, 3: {'mean': 4454.496287585921, 'std': 333.56599331913947, 'count': 8}, 4: {'mean': 5300.043802014893, 'std': 0.0, 'count': 1}, 6: {'mean': 4159.883720930233, 'std': 90.11627906976742, 'count': 2}, 7: {'mean': 3928.5714285714284, 'std': 0.0, 'count': 1}, 9: {'mean': 4347.826086956522, 'std': 0.0, 'count': 1}}\n",
      "Kadubeesanahalli {2: {'mean': 5376.241914799543, 'std': 1036.5231493673123, 'count': 3}, 3: {'mean': 5563.829896695065, 'std': 296.97596411079576, 'count': 2}}\n",
      "Kadugodi {1: {'mean': 4400.000000000001, 'std': 0.0, 'count': 1}, 2: {'mean': 5331.195793685061, 'std': 454.1775362743436, 'count': 7}, 3: {'mean': 5774.792767757044, 'std': 74.493006706207, 'count': 3}, 4: {'mean': 5600.0, 'std': 0.0, 'count': 1}}\n",
      "Kaggadasapura {2: {'mean': 4294.124194131457, 'std': 294.9120574184295, 'count': 16}, 3: {'mean': 4626.047332297332, 'std': 158.9806161104828, 'count': 4}, 4: {'mean': 4492.248062015504, 'std': 158.9147286821708, 'count': 2}}\n",
      "Kaggalipura {1: {'mean': 5190.476190476191, 'std': 178.1741612749495, 'count': 3}, 2: {'mean': 5087.719298245614, 'std': 131.28622409733146, 'count': 3}, 3: {'mean': 5139.1484010061085, 'std': 253.31233107031906, 'count': 4}}\n",
      "Kaikondrahalli {2: {'mean': 6400.837524418355, 'std': 115.28710798260511, 'count': 3}, 3: {'mean': 6310.541715194728, 'std': 231.5143595716272, 'count': 2}, 4: {'mean': 6352.941176470588, 'std': 0.0, 'count': 1}, 6: {'mean': 6654.835847382431, 'std': 0.0, 'count': 1}}\n",
      "Kalena Agrahara {2: {'mean': 4922.399761688928, 'std': 587.7939080858364, 'count': 9}, 3: {'mean': 5295.783167471357, 'std': 335.515345722885, 'count': 4}}\n",
      "Kalyan nagar {2: {'mean': 5357.492049438885, 'std': 548.267035097699, 'count': 5}, 3: {'mean': 5180.873778434754, 'std': 326.33060555409406, 'count': 3}, 4: {'mean': 6193.228736581338, 'std': 0.0, 'count': 1}}\n",
      "Kambipura {2: {'mean': 4511.136277840696, 'std': 211.0294429501499, 'count': 6}}\n",
      "Kammanahalli {2: {'mean': 6694.444444444445, 'std': 39.283710065919166, 'count': 3}, 4: {'mean': 6896.551724137931, 'std': 0.0, 'count': 1}}\n",
      "Kammasandra {1: {'mean': 2916.3934426229507, 'std': 116.39344262295072, 'count': 2}, 2: {'mean': 3023.9166228299455, 'std': 380.79129931577916, 'count': 11}}\n",
      "Kanakapura {1: {'mean': 5246.122211926104, 'std': 129.40908237065253, 'count': 3}, 2: {'mean': 4921.565973615912, 'std': 285.8126726484063, 'count': 7}, 3: {'mean': 5179.708956089343, 'std': 83.48766563830341, 'count': 3}}\n",
      "Kanakpura Road {1: {'mean': 5071.82958174046, 'std': 160.14201484138937, 'count': 14}, 2: {'mean': 5211.828788059, 'std': 114.65756797202842, 'count': 17}, 3: {'mean': 5222.015047946816, 'std': 117.08290139243972, 'count': 31}}\n",
      "Kannamangala {2: {'mean': 5841.170323928945, 'std': 125.39184952978077, 'count': 5}, 3: {'mean': 5862.192595828039, 'std': 67.92176249470594, 'count': 2}, 4: {'mean': 5573.905862923204, 'std': 0.0, 'count': 1}}\n",
      "Karuna Nagar {3: {'mean': 7345.937961595274, 'std': 180.31104974353332, 'count': 3}}\n",
      "Kasavanhalli {1: {'mean': 5690.909090909091, 'std': 0.0, 'count': 1}, 2: {'mean': 5657.752474530229, 'std': 444.08325286260265, 'count': 22}, 3: {'mean': 6204.678114968324, 'std': 386.16272860672626, 'count': 10}, 4: {'mean': 6384.976525821597, 'std': 0.0, 'count': 1}}\n",
      "Kasturi Nagar {2: {'mean': 5892.341388318446, 'std': 69.91914116694824, 'count': 4}, 3: {'mean': 6074.229285091906, 'std': 419.2772084145886, 'count': 2}, 4: {'mean': 6387.757738248516, 'std': 205.06926597089296, 'count': 2}}\n",
      "Kathriguppe {2: {'mean': 5500.0, 'std': 0.0, 'count': 1}, 3: {'mean': 5752.67512261309, 'std': 242.36640378653303, 'count': 17}}\n",
      "Kaval Byrasandra {1: {'mean': 5208.333333333333, 'std': 0.0, 'count': 1}, 2: {'mean': 4838.705914827908, 'std': 461.25782115370873, 'count': 8}, 3: {'mean': 5264.778325123152, 'std': 92.36453201970426, 'count': 2}}\n",
      "Kenchenahalli {1: {'mean': 5000.0, 'std': 0.0, 'count': 1}, 2: {'mean': 5220.818162347397, 'std': 263.50217878230023, 'count': 5}, 3: {'mean': 5283.964982269504, 'std': 106.66001773049629, 'count': 2}}\n",
      "Kengeri {1: {'mean': 4248.929499641988, 'std': 327.05917556139406, 'count': 6}, 2: {'mean': 4721.526615153328, 'std': 193.37246116685722, 'count': 9}, 3: {'mean': 4561.855478558332, 'std': 33.20483160823915, 'count': 2}, 5: {'mean': 4000.0, 'std': 0.0, 'count': 1}, 8: {'mean': 4333.333333333333, 'std': 0.0, 'count': 1}}\n",
      "Kengeri Satellite Town {1: {'mean': 3658.5365853658536, 'std': 0.0, 'count': 1}, 2: {'mean': 4134.293007582218, 'std': 169.95738640141167, 'count': 12}, 3: {'mean': 4664.310954063604, 'std': 0.0, 'count': 1}}\n",
      "Kereguddadahalli {1: {'mean': 3250.0, 'std': 0.0, 'count': 1}, 2: {'mean': 3362.33504114268, 'std': 33.51535005437762, 'count': 3}, 3: {'mean': 3338.7576804915516, 'std': 64.33590149285607, 'count': 3}}\n",
      "Kodichikkanahalli {2: {'mean': 4483.560163603723, 'std': 218.13580700845418, 'count': 7}, 3: {'mean': 4752.100840336135, 'std': 37.815126050420076, 'count': 2}, 5: {'mean': 4629.62962962963, 'std': 0.0, 'count': 2}}\n",
      "Kodigehaali {2: {'mean': 4714.352994318876, 'std': 385.9485761659995, 'count': 6}, 3: {'mean': 5127.152730399731, 'std': 297.5400320998183, 'count': 3}}\n",
      "Kodigehalli {1: {'mean': 8091.603053435115, 'std': 0.0, 'count': 1}, 2: {'mean': 7716.535433070866, 'std': 0.0, 'count': 1}, 3: {'mean': 8241.758241758242, 'std': 0.0, 'count': 1}}\n",
      "Kodihalli {2: {'mean': 10067.114093959732, 'std': 0.0, 'count': 1}, 3: {'mean': 10516.726852520584, 'std': 347.80442747282933, 'count': 4}, 4: {'mean': 10389.96333816951, 'std': 88.61032463937408, 'count': 2}}\n",
      "Kogilu {1: {'mean': 4405.714285714285, 'std': 0.0, 'count': 2}, 2: {'mean': 4475.604638481574, 'std': 211.3056933959039, 'count': 12}, 3: {'mean': 4609.743321110529, 'std': 0.0, 'count': 1}}\n",
      "Konanakunte {3: {'mean': 7744.983876746686, 'std': 244.98387674668584, 'count': 2}, 4: {'mean': 10010.6780565937, 'std': 0.0, 'count': 1}}\n",
      "Koramangala {2: {'mean': 9454.509158723566, 'std': 1617.6641509285892, 'count': 19}, 3: {'mean': 11148.6537970191, 'std': 730.9077317263324, 'count': 6}, 4: {'mean': 11279.761904761905, 'std': 863.0952380952385, 'count': 2}}\n",
      "Kothannur {2: {'mean': 3872.5655216562704, 'std': 177.44245428443105, 'count': 6}, 3: {'mean': 3999.7625830959164, 'std': 0.3357582056916626, 'count': 3}}\n",
      "Kothanur {1: {'mean': 4892.344497607655, 'std': 107.65550239234472, 'count': 2}, 2: {'mean': 4907.034369493145, 'std': 125.4395089435088, 'count': 23}, 3: {'mean': 5550.640292622035, 'std': 356.38896525639984, 'count': 5}, 5: {'mean': 5729.166666666667, 'std': 0.0, 'count': 1}}\n",
      "Kudlu {1: {'mean': 4583.333333333333, 'std': 0.0, 'count': 1}, 2: {'mean': 4365.865092818915, 'std': 193.05708713566403, 'count': 14}}\n",
      "Kudlu Gate {2: {'mean': 4466.253208301565, 'std': 174.55071148516285, 'count': 4}, 3: {'mean': 5325.156183087151, 'std': 620.4830584268195, 'count': 15}}\n",
      "Kumaraswami Layout {2: {'mean': 5400.1387604070305, 'std': 402.12974684506605, 'count': 3}, 3: {'mean': 5822.598600508905, 'std': 555.2046988018691, 'count': 4}, 4: {'mean': 6950.0, 'std': 0.0, 'count': 1}, 7: {'mean': 4857.750896057347, 'std': 247.93337659741678, 'count': 3}}\n",
      "Kundalahalli {2: {'mean': 7689.14833660168, 'std': 595.1979101545777, 'count': 8}, 3: {'mean': 8079.228702290457, 'std': 299.91093781498995, 'count': 6}, 4: {'mean': 7857.142857142857, 'std': 0.0, 'count': 1}}\n",
      "LB Shastri Nagar {1: {'mean': 4812.0300751879695, 'std': 0.0, 'count': 1}, 2: {'mean': 5153.245575393226, 'std': 144.49790384904924, 'count': 3}, 3: {'mean': 5714.285714285715, 'std': 0.0, 'count': 1}}\n",
      "Laggere {1: {'mean': 7741.935483870968, 'std': 0.0, 'count': 1}, 2: {'mean': 6250.0, 'std': 0.0, 'count': 1}}\n",
      "Lakshminarayana Pura {2: {'mean': 6398.725648017844, 'std': 125.98577904704236, 'count': 18}, 3: {'mean': 6750.0, 'std': 0.0, 'count': 1}}\n",
      "Lingadheeranahalli {3: {'mean': 6467.328344761763, 'std': 221.22078894699044, 'count': 11}, 4: {'mean': 6851.1321123068155, 'std': 8.556083684275563, 'count': 2}}\n",
      "Magadi Road {2: {'mean': 4961.215932594756, 'std': 416.9981258936802, 'count': 7}, 3: {'mean': 5431.377187465742, 'std': 272.0448657661973, 'count': 2}}\n",
      "Mahadevpura {1: {'mean': 4794.520547945205, 'std': 0.0, 'count': 1}, 2: {'mean': 4664.867010915789, 'std': 65.46224277105834, 'count': 9}, 3: {'mean': 4689.3667028255595, 'std': 13.54472261900405, 'count': 4}}\n",
      "Mahalakshmi Layout {3: {'mean': 8581.201137171287, 'std': 585.46552949538, 'count': 2}, 4: {'mean': 10031.746031746032, 'std': 0.0, 'count': 1}}\n",
      "Mallasandra {2: {'mean': 4908.886581586463, 'std': 423.7374822968804, 'count': 7}, 3: {'mean': 5375.175175175175, 'std': 233.86039998828065, 'count': 3}}\n"
     ]
    },
    {
     "name": "stdout",
     "output_type": "stream",
     "text": [
      "Malleshpalya {2: {'mean': 4240.764701001187, 'std': 361.4185373322154, 'count': 9}, 3: {'mean': 4860.1398601398605, 'std': 0.0, 'count': 1}}\n",
      "Malleshwaram {1: {'mean': 13250.0, 'std': 750.0, 'count': 2}, 2: {'mean': 11317.415604739548, 'std': 1219.2778012442811, 'count': 5}, 3: {'mean': 12787.357468233138, 'std': 899.8938011735544, 'count': 17}, 4: {'mean': 13000.0, 'std': 0.0, 'count': 1}}\n",
      "Marathahalli {1: {'mean': 5597.317015768416, 'std': 168.7455871969878, 'count': 2}, 2: {'mean': 5300.067039003102, 'std': 525.8235418105244, 'count': 52}, 3: {'mean': 5826.950235805207, 'std': 347.1632443398854, 'count': 20}, 4: {'mean': 5689.078713741865, 'std': 212.66952258689184, 'count': 8}}\n",
      "Margondanahalli {2: {'mean': 5404.427665768642, 'std': 165.8779327068593, 'count': 8}, 3: {'mean': 5416.666666666667, 'std': 0.0, 'count': 1}}\n",
      "Marsur {3: {'mean': 7500.0, 'std': 0.0, 'count': 1}, 4: {'mean': 8055.555555555556, 'std': 0.0, 'count': 1}}\n",
      "Mico Layout {1: {'mean': 3687.5, 'std': 0.0, 'count': 1}, 2: {'mean': 3663.7426900584796, 'std': 108.18713450292398, 'count': 2}, 3: {'mean': 3526.4670658682635, 'std': 6.467065868263489, 'count': 2}}\n",
      "Munnekollal {2: {'mean': 4774.684402390867, 'std': 190.88119518586407, 'count': 4}, 3: {'mean': 4802.422395043424, 'std': 125.38772727852572, 'count': 6}}\n",
      "Murugeshpalya {3: {'mean': 4629.579726757981, 'std': 397.3808492408354, 'count': 6}}\n",
      "Mysore Road {2: {'mean': 4905.488792032463, 'std': 390.44104044502774, 'count': 13}, 3: {'mean': 5292.099640125955, 'std': 225.09126919335466, 'count': 4}}\n",
      "NGR Layout {2: {'mean': 4500.977953452139, 'std': 5.795601838370756, 'count': 7}}\n",
      "NRI Layout {2: {'mean': 5208.333333333333, 'std': 0.0, 'count': 1}, 3: {'mean': 4492.309230887372, 'std': 300.0230374832354, 'count': 2}, 4: {'mean': 5348.837209302325, 'std': 0.0, 'count': 1}, 5: {'mean': 5200.0, 'std': 0.0, 'count': 1}}\n",
      "Nagarbhavi {1: {'mean': 5457.622557871108, 'std': 1066.4073158513404, 'count': 3}, 2: {'mean': 4902.75554248404, 'std': 939.8724709990373, 'count': 13}, 3: {'mean': 5832.732677460109, 'std': 560.1322134480979, 'count': 5}, 5: {'mean': 7200.0, 'std': 0.0, 'count': 1}}\n",
      "Nagasandra {2: {'mean': 6066.666666666667, 'std': 0.0, 'count': 1}, 3: {'mean': 5757.575757575758, 'std': 0.0, 'count': 1}, 4: {'mean': 6041.666666666667, 'std': 0.0, 'count': 1}}\n",
      "Nagavara {2: {'mean': 4493.627819930604, 'std': 461.4406306632376, 'count': 6}, 4: {'mean': 5265.610902466384, 'std': 257.5980819535639, 'count': 2}}\n",
      "Nagavarapalya {1: {'mean': 7854.609929078014, 'std': 262.38738629341753, 'count': 4}, 2: {'mean': 6948.891625615763, 'std': 163.1773399014778, 'count': 2}}\n",
      "Narayanapura {3: {'mean': 5726.38181180113, 'std': 1.7508585416557445, 'count': 3}}\n",
      "Neeladri Nagar {1: {'mean': 3159.4260014836796, 'std': 43.698998516320444, 'count': 2}, 2: {'mean': 3787.695532978552, 'std': 485.80874052572153, 'count': 2}, 3: {'mean': 3256.212510711225, 'std': 0.0, 'count': 1}, 10: {'mean': 4000.0, 'std': 0.0, 'count': 1}}\n",
      "Nehru Nagar {2: {'mean': 4545.454545454545, 'std': 0.0, 'count': 1}, 3: {'mean': 5104.941860755535, 'std': 213.62327706118492, 'count': 4}, 4: {'mean': 4994.3116788028365, 'std': 83.97863012649077, 'count': 2}}\n",
      "OMBR Layout {2: {'mean': 6052.977120076809, 'std': 132.8440241457457, 'count': 6}}\n",
      "Old Airport Road {2: {'mean': 7018.286968576856, 'std': 516.0293666776232, 'count': 4}, 4: {'mean': 7325.688506627185, 'std': 187.43281913180343, 'count': 18}}\n",
      "Old Madras Road {2: {'mean': 6181.515572239976, 'std': 259.3236502484438, 'count': 9}, 3: {'mean': 6418.918918918919, 'std': 0.0, 'count': 1}, 4: {'mean': 6130.987056641423, 'std': 87.91841599539293, 'count': 2}, 5: {'mean': 5717.131474103586, 'std': 0.0, 'count': 1}}\n",
      "Padmanabhanagar {2: {'mean': 5447.615472305761, 'std': 466.37511948969546, 'count': 6}, 3: {'mean': 5543.137254901961, 'std': 40.208032655705516, 'count': 3}, 4: {'mean': 6176.470588235294, 'std': 0.0, 'count': 1}}\n",
      "Pai Layout {2: {'mean': 4360.306496082255, 'std': 380.2721351803817, 'count': 7}, 3: {'mean': 4785.714285714285, 'std': 0.0, 'count': 1}, 6: {'mean': 4605.263157894737, 'std': 0.0, 'count': 1}}\n",
      "Panathur {1: {'mean': 6051.437216338881, 'std': 0.0, 'count': 1}, 2: {'mean': 6144.822464593237, 'std': 362.76442376393703, 'count': 17}, 3: {'mean': 6403.622250970246, 'std': 0.0, 'count': 1}}\n",
      "Parappana Agrahara {2: {'mean': 3904.242259479987, 'std': 40.83127506311358, 'count': 13}}\n",
      "Pattandur Agrahara {2: {'mean': 4913.667469959992, 'std': 156.0839445483652, 'count': 5}, 3: {'mean': 5161.290322580645, 'std': 0.0, 'count': 2}}\n",
      "Poorna Pragna Layout {2: {'mean': 4074.0817091454264, 'std': 129.80643139932386, 'count': 4}, 3: {'mean': 4049.309690274269, 'std': 111.94750610317409, 'count': 12}}\n",
      "Prithvi Layout {2: {'mean': 6179.839391377852, 'std': 490.3015414389578, 'count': 5}, 3: {'mean': 5952.380952380952, 'std': 0.0, 'count': 1}, 4: {'mean': 7988.165680473373, 'std': 0.0, 'count': 1}}\n",
      "R.T. Nagar {2: {'mean': 5541.274949647405, 'std': 1078.141988801759, 'count': 7}, 3: {'mean': 7127.5631320622315, 'std': 1103.8284274081532, 'count': 3}, 4: {'mean': 6666.666666666667, 'std': 0.0, 'count': 1}, 9: {'mean': 4583.333333333333, 'std': 0.0, 'count': 1}}\n",
      "Rachenahalli {1: {'mean': 4800.0, 'std': 0.0, 'count': 2}, 2: {'mean': 5036.677407365622, 'std': 102.36403713974276, 'count': 20}}\n",
      "Raja Rajeshwari Nagar {1: {'mean': 4339.6530666138515, 'std': 543.1788208229217, 'count': 5}, 2: {'mean': 3909.2629737367115, 'std': 524.4321727800344, 'count': 79}, 3: {'mean': 4350.901939072484, 'std': 307.9798377408015, 'count': 22}, 6: {'mean': 5000.0, 'std': 0.0, 'count': 1}, 8: {'mean': 4135.416666666667, 'std': 552.0833333333333, 'count': 2}}\n",
      "Rajaji Nagar {2: {'mean': 13511.804703072647, 'std': 1320.1107595878852, 'count': 8}, 3: {'mean': 14816.18364220553, 'std': 946.290668770188, 'count': 21}, 4: {'mean': 15245.154662118059, 'std': 526.0280251544453, 'count': 3}}\n",
      "Rajiv Nagar {2: {'mean': 6552.008363153875, 'std': 440.4728398536449, 'count': 2}, 4: {'mean': 6452.991452991453, 'std': 276.9547307011907, 'count': 3}}\n",
      "Ramagondanahalli {1: {'mean': 5555.555555555556, 'std': 0.0, 'count': 1}, 2: {'mean': 4280.54760425173, 'std': 729.1966556165776, 'count': 16}, 3: {'mean': 5156.071249721743, 'std': 868.7748120255841, 'count': 5}, 4: {'mean': 5535.714285714285, 'std': 0.0, 'count': 1}}\n",
      "Ramamurthy Nagar {2: {'mean': 4910.206623824297, 'std': 780.1424793391767, 'count': 20}, 3: {'mean': 5448.618307426597, 'std': 51.38169257340223, 'count': 2}, 4: {'mean': 5995.085995085995, 'std': 85.9950859950859, 'count': 2}, 5: {'mean': 4285.714285714285, 'std': 0.0, 'count': 1}}\n",
      "Rayasandra {1: {'mean': 4541.075143242948, 'std': 72.99003685996877, 'count': 2}, 2: {'mean': 4425.750666858969, 'std': 146.01251895301732, 'count': 3}, 3: {'mean': 4339.941840694825, 'std': 54.9375760936437, 'count': 4}, 4: {'mean': 4449.648711943794, 'std': 0.0, 'count': 1}}\n",
      "Sahakara Nagar {2: {'mean': 5384.260520337543, 'std': 593.4608291729991, 'count': 13}, 3: {'mean': 6622.946753129014, 'std': 260.81552742678207, 'count': 6}, 4: {'mean': 6890.459363957597, 'std': 0.0, 'count': 1}}\n",
      "Sanjay nagar {2: {'mean': 6095.366745476133, 'std': 514.5073187853062, 'count': 8}, 3: {'mean': 6333.333333333333, 'std': 0.0, 'count': 1}, 5: {'mean': 7575.757575757576, 'std': 0.0, 'count': 1}}\n",
      "Sarakki Nagar {3: {'mean': 11317.89142216974, 'std': 515.8807792803854, 'count': 3}, 4: {'mean': 11118.213921641485, 'std': 58.695321233468675, 'count': 3}}\n",
      "Sarjapur {1: {'mean': 3048.4615384615386, 'std': 8.461538461538566, 'count': 2}, 2: {'mean': 3536.877467142108, 'std': 271.6743701112451, 'count': 26}, 3: {'mean': 4309.026571876343, 'std': 367.1827628803609, 'count': 10}, 4: {'mean': 4512.353644341123, 'std': 274.826585669017, 'count': 5}}\n",
      "Sarjapur  Road {1: {'mean': 5508.892464913385, 'std': 269.66467334621365, 'count': 4}, 2: {'mean': 5553.299408954751, 'std': 588.4765225296601, 'count': 74}, 3: {'mean': 6245.579319603589, 'std': 424.029592871747, 'count': 56}, 4: {'mean': 6652.78674768147, 'std': 141.38897874909654, 'count': 4}, 5: {'mean': 6454.316848281643, 'std': 0.0, 'count': 1}}\n",
      "Sarjapura - Attibele Road {1: {'mean': 3195.945945945946, 'std': 0.0, 'count': 1}, 2: {'mean': 3095.314270263122, 'std': 217.3814123025546, 'count': 4}, 3: {'mean': 3456.5105544754656, 'std': 191.5905050927442, 'count': 6}}\n",
      "Sector 2 HSR Layout {2: {'mean': 5611.773636044389, 'std': 181.64445418771936, 'count': 3}, 3: {'mean': 6115.803303303303, 'std': 490.80330330330344, 'count': 2}}\n",
      "Sector 7 HSR Layout {2: {'mean': 8517.539849533492, 'std': 29.88399409911783, 'count': 4}, 3: {'mean': 8380.681818181818, 'std': 414.6170317990458, 'count': 4}, 4: {'mean': 9166.666666666666, 'std': 0.0, 'count': 1}}\n",
      "Seegehalli {2: {'mean': 4724.117963748736, 'std': 1083.7907843216767, 'count': 6}, 3: {'mean': 5265.027728263023, 'std': 463.1368052270958, 'count': 3}, 4: {'mean': 5000.0, 'std': 0.0, 'count': 2}}\n",
      "Shampura {2: {'mean': 5000.0, 'std': 0.0, 'count': 1}, 3: {'mean': 5144.067796610169, 'std': 144.06779661016935, 'count': 2}}\n",
      "Shivaji Nagar {1: {'mean': 8010.471204188481, 'std': 0.0, 'count': 1}, 2: {'mean': 7292.449459632123, 'std': 793.7278212672296, 'count': 3}}\n",
      "Singasandra {2: {'mean': 4587.0740098933675, 'std': 320.20895115377436, 'count': 6}, 3: {'mean': 4956.343437606562, 'std': 10.54397961198174, 'count': 2}, 4: {'mean': 5064.935064935065, 'std': 0.0, 'count': 1}}\n",
      "Somasundara Palya {2: {'mean': 4942.092224764751, 'std': 297.7045552104552, 'count': 5}, 3: {'mean': 5757.575757575758, 'std': 0.0, 'count': 1}}\n",
      "Sompura {2: {'mean': 3671.1879003175627, 'std': 207.59997847031605, 'count': 2}, 3: {'mean': 3545.618789521229, 'std': 64.13730803974727, 'count': 2}, 4: {'mean': 3953.4883720930234, 'std': 0.0, 'count': 1}}\n",
      "Sonnenahalli {1: {'mean': 4998.3598840688865, 'std': 0.012776630869666405, 'count': 2}, 2: {'mean': 4717.8426345588905, 'std': 233.04151130302455, 'count': 4}, 3: {'mean': 4911.239496711789, 'std': 184.74614795353054, 'count': 4}}\n",
      "Subramanyapura {2: {'mean': 5484.780944932548, 'std': 268.7249025985889, 'count': 9}, 3: {'mean': 5822.3573117190135, 'std': 28.706518068220248, 'count': 2}}\n",
      "Sultan Palaya {2: {'mean': 5721.010901883053, 'std': 721.0109018830526, 'count': 2}, 3: {'mean': 7058.823529411765, 'std': 0.0, 'count': 1}, 4: {'mean': 6500.0, 'std': 0.0, 'count': 1}}\n",
      "TC Palaya {2: {'mean': 5766.0486566216705, 'std': 387.7009927104053, 'count': 15}}\n",
      "Talaghattapura {2: {'mean': 5276.595744680851, 'std': 0.0, 'count': 1}, 3: {'mean': 6547.708123533484, 'std': 423.85786162854225, 'count': 16}}\n",
      "Thanisandra {1: {'mean': 6221.923290127029, 'std': 242.3642755187163, 'count': 6}, 2: {'mean': 6436.427982795551, 'std': 90.66469814404834, 'count': 8}, 3: {'mean': 6289.104969661109, 'std': 128.53951095293513, 'count': 28}, 4: {'mean': 5984.50653935606, 'std': 8.41092182617922, 'count': 2}}\n"
     ]
    },
    {
     "name": "stdout",
     "output_type": "stream",
     "text": [
      "Thigalarapalya {2: {'mean': 7374.9193710224545, 'std': 112.49582024041611, 'count': 13}, 3: {'mean': 7459.965820621559, 'std': 73.79451207962522, 'count': 5}, 4: {'mean': 7483.823614036517, 'std': 83.61332259624004, 'count': 5}}\n",
      "Thubarahalli {2: {'mean': 6579.809015503756, 'std': 73.26651761376728, 'count': 7}, 3: {'mean': 6666.666666666667, 'std': 0.0, 'count': 1}, 4: {'mean': 6289.473684210527, 'std': 0.0, 'count': 1}}\n",
      "Thyagaraja Nagar {2: {'mean': 6538.461538461538, 'std': 0.0, 'count': 1}, 3: {'mean': 7500.0, 'std': 0.0, 'count': 1}, 5: {'mean': 7250.0, 'std': 0.0, 'count': 1}}\n",
      "Tindlu {2: {'mean': 5123.714149465223, 'std': 97.42574991353615, 'count': 3}, 7: {'mean': 5333.333333333333, 'std': 0.0, 'count': 1}}\n",
      "Tumkur Road {2: {'mean': 6501.752804603551, 'std': 208.69670278289422, 'count': 6}, 3: {'mean': 6646.2502470444115, 'std': 75.75150654025607, 'count': 7}}\n",
      "Ulsoor {2: {'mean': 9149.364655038868, 'std': 481.06038666911905, 'count': 3}, 3: {'mean': 8904.030054644809, 'std': 820.3505934226438, 'count': 4}}\n",
      "Uttarahalli {2: {'mean': 4085.5723539728288, 'std': 203.88628408568286, 'count': 54}, 3: {'mean': 4308.053501245765, 'std': 112.19658174297635, 'count': 32}}\n",
      "Varthur {2: {'mean': 4316.524848805535, 'std': 541.5357565212853, 'count': 21}, 3: {'mean': 4896.551724137931, 'std': 0.0, 'count': 1}}\n",
      "Varthur Road {2: {'mean': 3919.079735642102, 'std': 481.8385250248002, 'count': 4}}\n",
      "Vasanthapura {2: {'mean': 3499.2533413597225, 'std': 0.6562792080543314, 'count': 6}}\n",
      "Vidyaranyapura {2: {'mean': 4707.774850935229, 'std': 331.29716645462213, 'count': 10}, 3: {'mean': 5138.888888888889, 'std': 277.7777777777778, 'count': 2}, 4: {'mean': 5625.0, 'std': 0.0, 'count': 1}}\n",
      "Vijayanagar {1: {'mean': 6169.96699669967, 'std': 430.69306930693074, 'count': 2}, 2: {'mean': 6302.049289473463, 'std': 746.8353397105977, 'count': 8}, 3: {'mean': 6875.391349509399, 'std': 430.73788785800497, 'count': 11}, 5: {'mean': 5208.333333333333, 'std': 0.0, 'count': 1}}\n",
      "Vishveshwarya Layout {1: {'mean': 4000.0, 'std': 0.0, 'count': 1}, 6: {'mean': 4380.952380952381, 'std': 0.0, 'count': 1}}\n",
      "Vishwapriya Layout {2: {'mean': 3926.073926073926, 'std': 29.970029970029827, 'count': 2}}\n",
      "Vittasandra {2: {'mean': 5319.709156557259, 'std': 94.18404745178427, 'count': 18}}\n",
      "Whitefield {1: {'mean': 5747.843847510469, 'std': 720.6725616066734, 'count': 21}, 2: {'mean': 6197.483863891107, 'std': 322.4767348334449, 'count': 52}, 3: {'mean': 6065.468058329715, 'std': 467.15415628009686, 'count': 61}, 4: {'mean': 6019.0465970199975, 'std': 460.69553174112104, 'count': 25}, 5: {'mean': 6689.834926151173, 'std': 0.0, 'count': 1}}\n",
      "Yelachenahalli {2: {'mean': 5392.494557310211, 'std': 443.4878137858896, 'count': 6}, 3: {'mean': 5526.315789473684, 'std': 0.0, 'count': 1}}\n",
      "Yelahanka {1: {'mean': 5129.193487243324, 'std': 486.42759181082107, 'count': 12}, 2: {'mean': 5517.747801189708, 'std': 232.73458315700833, 'count': 15}, 3: {'mean': 5508.588309547781, 'std': 297.8683694922711, 'count': 25}, 4: {'mean': 5250.922046764779, 'std': 17.277186951695512, 'count': 2}, 5: {'mean': 5500.0, 'std': 0.0, 'count': 1}, 6: {'mean': 5555.555555555556, 'std': 0.0, 'count': 1}}\n",
      "Yelahanka New Town {1: {'mean': 4092.2477681698992, 'std': 522.2307863639929, 'count': 8}, 2: {'mean': 5000.111597886344, 'std': 388.25903571597286, 'count': 5}, 3: {'mean': 5278.282408229785, 'std': 283.6844730542257, 'count': 9}, 4: {'mean': 5202.863961813842, 'std': 0.0, 'count': 1}}\n",
      "Yelenahalli {2: {'mean': 3815.8333333333335, 'std': 22.391714737574006, 'count': 6}, 3: {'mean': 3835.625, 'std': 0.0, 'count': 1}}\n",
      "Yeshwanthpur {1: {'mean': 5660.648244572341, 'std': 397.8138955809522, 'count': 13}, 2: {'mean': 6402.133799974265, 'std': 370.18952547489357, 'count': 4}, 3: {'mean': 6462.584168608249, 'std': 118.98268608108918, 'count': 4}, 4: {'mean': 6388.888888888889, 'std': 277.7777777777778, 'count': 2}}\n",
      "other {1: {'mean': 5266.422460274296, 'std': 1263.5069563067177, 'count': 89}, 2: {'mean': 6349.4111625588785, 'std': 860.1111178986802, 'count': 292}, 3: {'mean': 6389.677637473735, 'std': 973.9727291489905, 'count': 373}, 4: {'mean': 6957.8616755609455, 'std': 953.0666372486279, 'count': 84}, 5: {'mean': 7337.9329004329, 'std': 457.25780624682886, 'count': 5}, 6: {'mean': 7106.20242277851, 'std': 775.9165173431654, 'count': 8}, 7: {'mean': 5980.0, 'std': 0.0, 'count': 1}, 8: {'mean': 6065.705128205128, 'std': 857.3717948717949, 'count': 2}, 9: {'mean': 3875.6944444444443, 'std': 186.80555555555566, 'count': 2}, 10: {'mean': 4375.0, 'std': 0.0, 'count': 1}, 11: {'mean': 7200.0, 'std': 0.0, 'count': 1}, 13: {'mean': 5069.124423963133, 'std': 0.0, 'count': 1}, 16: {'mean': 5500.0, 'std': 0.0, 'count': 1}}\n"
     ]
    }
   ],
   "source": [
    "data = bhk_outlier_remove(data)"
   ]
  },
  {
   "cell_type": "code",
   "execution_count": 56,
   "id": "a61a1efc",
   "metadata": {},
   "outputs": [
    {
     "data": {
      "text/plain": [
       "(4594, 7)"
      ]
     },
     "execution_count": 56,
     "metadata": {},
     "output_type": "execute_result"
    }
   ],
   "source": [
    "data.shape"
   ]
  },
  {
   "cell_type": "code",
   "execution_count": 57,
   "id": "01cb1b39",
   "metadata": {},
   "outputs": [
    {
     "data": {
      "text/html": [
       "<div>\n",
       "<style scoped>\n",
       "    .dataframe tbody tr th:only-of-type {\n",
       "        vertical-align: middle;\n",
       "    }\n",
       "\n",
       "    .dataframe tbody tr th {\n",
       "        vertical-align: top;\n",
       "    }\n",
       "\n",
       "    .dataframe thead th {\n",
       "        text-align: right;\n",
       "    }\n",
       "</style>\n",
       "<table border=\"1\" class=\"dataframe\">\n",
       "  <thead>\n",
       "    <tr style=\"text-align: right;\">\n",
       "      <th></th>\n",
       "      <th>location</th>\n",
       "      <th>size</th>\n",
       "      <th>total_sqft</th>\n",
       "      <th>bath</th>\n",
       "      <th>price</th>\n",
       "      <th>bhk</th>\n",
       "      <th>price_per_sqft</th>\n",
       "    </tr>\n",
       "  </thead>\n",
       "  <tbody>\n",
       "    <tr>\n",
       "      <th>0</th>\n",
       "      <td>1st Block Jayanagar</td>\n",
       "      <td>3 BHK</td>\n",
       "      <td>1630.0</td>\n",
       "      <td>3.0</td>\n",
       "      <td>194.0</td>\n",
       "      <td>3</td>\n",
       "      <td>11901.840491</td>\n",
       "    </tr>\n",
       "    <tr>\n",
       "      <th>1</th>\n",
       "      <td>1st Block Jayanagar</td>\n",
       "      <td>3 BHK</td>\n",
       "      <td>1875.0</td>\n",
       "      <td>2.0</td>\n",
       "      <td>235.0</td>\n",
       "      <td>3</td>\n",
       "      <td>12533.333333</td>\n",
       "    </tr>\n",
       "    <tr>\n",
       "      <th>2</th>\n",
       "      <td>1st Block Jayanagar</td>\n",
       "      <td>2 BHK</td>\n",
       "      <td>1235.0</td>\n",
       "      <td>2.0</td>\n",
       "      <td>148.0</td>\n",
       "      <td>2</td>\n",
       "      <td>11983.805668</td>\n",
       "    </tr>\n",
       "    <tr>\n",
       "      <th>3</th>\n",
       "      <td>1st Phase JP Nagar</td>\n",
       "      <td>4 BHK</td>\n",
       "      <td>2825.0</td>\n",
       "      <td>4.0</td>\n",
       "      <td>250.0</td>\n",
       "      <td>4</td>\n",
       "      <td>8849.557522</td>\n",
       "    </tr>\n",
       "    <tr>\n",
       "      <th>4</th>\n",
       "      <td>1st Phase JP Nagar</td>\n",
       "      <td>3 BHK</td>\n",
       "      <td>1875.0</td>\n",
       "      <td>3.0</td>\n",
       "      <td>167.0</td>\n",
       "      <td>3</td>\n",
       "      <td>8906.666667</td>\n",
       "    </tr>\n",
       "    <tr>\n",
       "      <th>...</th>\n",
       "      <td>...</td>\n",
       "      <td>...</td>\n",
       "      <td>...</td>\n",
       "      <td>...</td>\n",
       "      <td>...</td>\n",
       "      <td>...</td>\n",
       "      <td>...</td>\n",
       "    </tr>\n",
       "    <tr>\n",
       "      <th>6996</th>\n",
       "      <td>other</td>\n",
       "      <td>2 BHK</td>\n",
       "      <td>1012.0</td>\n",
       "      <td>2.0</td>\n",
       "      <td>62.0</td>\n",
       "      <td>2</td>\n",
       "      <td>6126.482213</td>\n",
       "    </tr>\n",
       "    <tr>\n",
       "      <th>6999</th>\n",
       "      <td>other</td>\n",
       "      <td>2 BHK</td>\n",
       "      <td>1650.0</td>\n",
       "      <td>1.0</td>\n",
       "      <td>130.0</td>\n",
       "      <td>2</td>\n",
       "      <td>7878.787879</td>\n",
       "    </tr>\n",
       "    <tr>\n",
       "      <th>7003</th>\n",
       "      <td>other</td>\n",
       "      <td>2 BHK</td>\n",
       "      <td>1155.0</td>\n",
       "      <td>2.0</td>\n",
       "      <td>64.0</td>\n",
       "      <td>2</td>\n",
       "      <td>5541.125541</td>\n",
       "    </tr>\n",
       "    <tr>\n",
       "      <th>7005</th>\n",
       "      <td>other</td>\n",
       "      <td>2 BHK</td>\n",
       "      <td>1200.0</td>\n",
       "      <td>2.0</td>\n",
       "      <td>70.0</td>\n",
       "      <td>2</td>\n",
       "      <td>5833.333333</td>\n",
       "    </tr>\n",
       "    <tr>\n",
       "      <th>7008</th>\n",
       "      <td>other</td>\n",
       "      <td>2 BHK</td>\n",
       "      <td>1353.0</td>\n",
       "      <td>2.0</td>\n",
       "      <td>110.0</td>\n",
       "      <td>2</td>\n",
       "      <td>8130.081301</td>\n",
       "    </tr>\n",
       "  </tbody>\n",
       "</table>\n",
       "<p>4594 rows × 7 columns</p>\n",
       "</div>"
      ],
      "text/plain": [
       "                 location   size  total_sqft  bath  price  bhk  price_per_sqft\n",
       "0     1st Block Jayanagar  3 BHK      1630.0   3.0  194.0    3    11901.840491\n",
       "1     1st Block Jayanagar  3 BHK      1875.0   2.0  235.0    3    12533.333333\n",
       "2     1st Block Jayanagar  2 BHK      1235.0   2.0  148.0    2    11983.805668\n",
       "3      1st Phase JP Nagar  4 BHK      2825.0   4.0  250.0    4     8849.557522\n",
       "4      1st Phase JP Nagar  3 BHK      1875.0   3.0  167.0    3     8906.666667\n",
       "...                   ...    ...         ...   ...    ...  ...             ...\n",
       "6996                other  2 BHK      1012.0   2.0   62.0    2     6126.482213\n",
       "6999                other  2 BHK      1650.0   1.0  130.0    2     7878.787879\n",
       "7003                other  2 BHK      1155.0   2.0   64.0    2     5541.125541\n",
       "7005                other  2 BHK      1200.0   2.0   70.0    2     5833.333333\n",
       "7008                other  2 BHK      1353.0   2.0  110.0    2     8130.081301\n",
       "\n",
       "[4594 rows x 7 columns]"
      ]
     },
     "execution_count": 57,
     "metadata": {},
     "output_type": "execute_result"
    }
   ],
   "source": [
    "data"
   ]
  },
  {
   "cell_type": "code",
   "execution_count": 58,
   "id": "c34efe4a",
   "metadata": {},
   "outputs": [],
   "source": [
    "data.drop(columns = ['size','price_per_sqft'],inplace = True)"
   ]
  },
  {
   "cell_type": "markdown",
   "id": "557461cd",
   "metadata": {},
   "source": [
    "# cleaned data"
   ]
  },
  {
   "cell_type": "code",
   "execution_count": 59,
   "id": "7cc80352",
   "metadata": {},
   "outputs": [
    {
     "data": {
      "text/html": [
       "<div>\n",
       "<style scoped>\n",
       "    .dataframe tbody tr th:only-of-type {\n",
       "        vertical-align: middle;\n",
       "    }\n",
       "\n",
       "    .dataframe tbody tr th {\n",
       "        vertical-align: top;\n",
       "    }\n",
       "\n",
       "    .dataframe thead th {\n",
       "        text-align: right;\n",
       "    }\n",
       "</style>\n",
       "<table border=\"1\" class=\"dataframe\">\n",
       "  <thead>\n",
       "    <tr style=\"text-align: right;\">\n",
       "      <th></th>\n",
       "      <th>location</th>\n",
       "      <th>total_sqft</th>\n",
       "      <th>bath</th>\n",
       "      <th>price</th>\n",
       "      <th>bhk</th>\n",
       "    </tr>\n",
       "  </thead>\n",
       "  <tbody>\n",
       "    <tr>\n",
       "      <th>0</th>\n",
       "      <td>1st Block Jayanagar</td>\n",
       "      <td>1630.0</td>\n",
       "      <td>3.0</td>\n",
       "      <td>194.0</td>\n",
       "      <td>3</td>\n",
       "    </tr>\n",
       "    <tr>\n",
       "      <th>1</th>\n",
       "      <td>1st Block Jayanagar</td>\n",
       "      <td>1875.0</td>\n",
       "      <td>2.0</td>\n",
       "      <td>235.0</td>\n",
       "      <td>3</td>\n",
       "    </tr>\n",
       "    <tr>\n",
       "      <th>2</th>\n",
       "      <td>1st Block Jayanagar</td>\n",
       "      <td>1235.0</td>\n",
       "      <td>2.0</td>\n",
       "      <td>148.0</td>\n",
       "      <td>2</td>\n",
       "    </tr>\n",
       "    <tr>\n",
       "      <th>3</th>\n",
       "      <td>1st Phase JP Nagar</td>\n",
       "      <td>2825.0</td>\n",
       "      <td>4.0</td>\n",
       "      <td>250.0</td>\n",
       "      <td>4</td>\n",
       "    </tr>\n",
       "    <tr>\n",
       "      <th>4</th>\n",
       "      <td>1st Phase JP Nagar</td>\n",
       "      <td>1875.0</td>\n",
       "      <td>3.0</td>\n",
       "      <td>167.0</td>\n",
       "      <td>3</td>\n",
       "    </tr>\n",
       "  </tbody>\n",
       "</table>\n",
       "</div>"
      ],
      "text/plain": [
       "              location  total_sqft  bath  price  bhk\n",
       "0  1st Block Jayanagar      1630.0   3.0  194.0    3\n",
       "1  1st Block Jayanagar      1875.0   2.0  235.0    3\n",
       "2  1st Block Jayanagar      1235.0   2.0  148.0    2\n",
       "3   1st Phase JP Nagar      2825.0   4.0  250.0    4\n",
       "4   1st Phase JP Nagar      1875.0   3.0  167.0    3"
      ]
     },
     "execution_count": 59,
     "metadata": {},
     "output_type": "execute_result"
    }
   ],
   "source": [
    "data.head()"
   ]
  },
  {
   "cell_type": "code",
   "execution_count": 60,
   "id": "0b5efc33",
   "metadata": {},
   "outputs": [],
   "source": [
    "data.to_csv(\"Cleaned_data.csv\")"
   ]
  },
  {
   "cell_type": "code",
   "execution_count": 66,
   "id": "36db86c8",
   "metadata": {},
   "outputs": [],
   "source": [
    "X =data.drop(columns = ['price'])\n",
    "y = data['price']"
   ]
  },
  {
   "cell_type": "code",
   "execution_count": 67,
   "id": "e9a0a718",
   "metadata": {},
   "outputs": [],
   "source": [
    "from sklearn.model_selection import train_test_split\n",
    "from sklearn.linear_model import LinearRegression,Lasso,Ridge\n",
    "from sklearn.preprocessing import OneHotEncoder, StandardScaler\n",
    "from sklearn.compose import make_column_transformer\n",
    "from sklearn.pipeline import make_pipeline\n",
    "from sklearn.metrics import r2_score"
   ]
  },
  {
   "cell_type": "code",
   "execution_count": 69,
   "id": "cad71d94",
   "metadata": {},
   "outputs": [],
   "source": [
    "X_train,X_test,y_train,y_test = train_test_split(X,y,test_size = 0.2, random_state = 0)"
   ]
  },
  {
   "cell_type": "code",
   "execution_count": 71,
   "id": "5d46d436",
   "metadata": {},
   "outputs": [
    {
     "name": "stdout",
     "output_type": "stream",
     "text": [
      "(3675, 4)\n",
      "(919, 4)\n"
     ]
    }
   ],
   "source": [
    "print(X_train.shape)\n",
    "print(X_test.shape)"
   ]
  },
  {
   "cell_type": "markdown",
   "id": "92f276b1",
   "metadata": {},
   "source": [
    "# Applying Linear Regression"
   ]
  },
  {
   "cell_type": "code",
   "execution_count": 86,
   "id": "e005159a",
   "metadata": {},
   "outputs": [],
   "source": [
    "column_trans = make_column_transformer((OneHotEncoder(sparse = False), ['location']),\n",
    "                                    remainder = 'passthrough')"
   ]
  },
  {
   "cell_type": "code",
   "execution_count": 87,
   "id": "202df8ec",
   "metadata": {},
   "outputs": [],
   "source": [
    "scaler = StandardScaler()"
   ]
  },
  {
   "cell_type": "code",
   "execution_count": 97,
   "id": "044de9ba",
   "metadata": {},
   "outputs": [],
   "source": [
    "lr = LinearRegression()"
   ]
  },
  {
   "cell_type": "code",
   "execution_count": 98,
   "id": "453f7896",
   "metadata": {},
   "outputs": [],
   "source": [
    "pipe = make_pipeline(column_trans,scaler , lr)"
   ]
  },
  {
   "cell_type": "code",
   "execution_count": 99,
   "id": "0fadeb03",
   "metadata": {},
   "outputs": [
    {
     "name": "stderr",
     "output_type": "stream",
     "text": [
      "C:\\Users\\Jayesh\\anaconda3\\Lib\\site-packages\\sklearn\\preprocessing\\_encoders.py:868: FutureWarning: `sparse` was renamed to `sparse_output` in version 1.2 and will be removed in 1.4. `sparse_output` is ignored unless you leave `sparse` to its default value.\n",
      "  warnings.warn(\n"
     ]
    },
    {
     "data": {
      "text/html": [
       "<style>#sk-container-id-2 {color: black;background-color: white;}#sk-container-id-2 pre{padding: 0;}#sk-container-id-2 div.sk-toggleable {background-color: white;}#sk-container-id-2 label.sk-toggleable__label {cursor: pointer;display: block;width: 100%;margin-bottom: 0;padding: 0.3em;box-sizing: border-box;text-align: center;}#sk-container-id-2 label.sk-toggleable__label-arrow:before {content: \"▸\";float: left;margin-right: 0.25em;color: #696969;}#sk-container-id-2 label.sk-toggleable__label-arrow:hover:before {color: black;}#sk-container-id-2 div.sk-estimator:hover label.sk-toggleable__label-arrow:before {color: black;}#sk-container-id-2 div.sk-toggleable__content {max-height: 0;max-width: 0;overflow: hidden;text-align: left;background-color: #f0f8ff;}#sk-container-id-2 div.sk-toggleable__content pre {margin: 0.2em;color: black;border-radius: 0.25em;background-color: #f0f8ff;}#sk-container-id-2 input.sk-toggleable__control:checked~div.sk-toggleable__content {max-height: 200px;max-width: 100%;overflow: auto;}#sk-container-id-2 input.sk-toggleable__control:checked~label.sk-toggleable__label-arrow:before {content: \"▾\";}#sk-container-id-2 div.sk-estimator input.sk-toggleable__control:checked~label.sk-toggleable__label {background-color: #d4ebff;}#sk-container-id-2 div.sk-label input.sk-toggleable__control:checked~label.sk-toggleable__label {background-color: #d4ebff;}#sk-container-id-2 input.sk-hidden--visually {border: 0;clip: rect(1px 1px 1px 1px);clip: rect(1px, 1px, 1px, 1px);height: 1px;margin: -1px;overflow: hidden;padding: 0;position: absolute;width: 1px;}#sk-container-id-2 div.sk-estimator {font-family: monospace;background-color: #f0f8ff;border: 1px dotted black;border-radius: 0.25em;box-sizing: border-box;margin-bottom: 0.5em;}#sk-container-id-2 div.sk-estimator:hover {background-color: #d4ebff;}#sk-container-id-2 div.sk-parallel-item::after {content: \"\";width: 100%;border-bottom: 1px solid gray;flex-grow: 1;}#sk-container-id-2 div.sk-label:hover label.sk-toggleable__label {background-color: #d4ebff;}#sk-container-id-2 div.sk-serial::before {content: \"\";position: absolute;border-left: 1px solid gray;box-sizing: border-box;top: 0;bottom: 0;left: 50%;z-index: 0;}#sk-container-id-2 div.sk-serial {display: flex;flex-direction: column;align-items: center;background-color: white;padding-right: 0.2em;padding-left: 0.2em;position: relative;}#sk-container-id-2 div.sk-item {position: relative;z-index: 1;}#sk-container-id-2 div.sk-parallel {display: flex;align-items: stretch;justify-content: center;background-color: white;position: relative;}#sk-container-id-2 div.sk-item::before, #sk-container-id-2 div.sk-parallel-item::before {content: \"\";position: absolute;border-left: 1px solid gray;box-sizing: border-box;top: 0;bottom: 0;left: 50%;z-index: -1;}#sk-container-id-2 div.sk-parallel-item {display: flex;flex-direction: column;z-index: 1;position: relative;background-color: white;}#sk-container-id-2 div.sk-parallel-item:first-child::after {align-self: flex-end;width: 50%;}#sk-container-id-2 div.sk-parallel-item:last-child::after {align-self: flex-start;width: 50%;}#sk-container-id-2 div.sk-parallel-item:only-child::after {width: 0;}#sk-container-id-2 div.sk-dashed-wrapped {border: 1px dashed gray;margin: 0 0.4em 0.5em 0.4em;box-sizing: border-box;padding-bottom: 0.4em;background-color: white;}#sk-container-id-2 div.sk-label label {font-family: monospace;font-weight: bold;display: inline-block;line-height: 1.2em;}#sk-container-id-2 div.sk-label-container {text-align: center;}#sk-container-id-2 div.sk-container {/* jupyter's `normalize.less` sets `[hidden] { display: none; }` but bootstrap.min.css set `[hidden] { display: none !important; }` so we also need the `!important` here to be able to override the default hidden behavior on the sphinx rendered scikit-learn.org. See: https://github.com/scikit-learn/scikit-learn/issues/21755 */display: inline-block !important;position: relative;}#sk-container-id-2 div.sk-text-repr-fallback {display: none;}</style><div id=\"sk-container-id-2\" class=\"sk-top-container\"><div class=\"sk-text-repr-fallback\"><pre>Pipeline(steps=[(&#x27;columntransformer&#x27;,\n",
       "                 ColumnTransformer(remainder=&#x27;passthrough&#x27;,\n",
       "                                   transformers=[(&#x27;onehotencoder&#x27;,\n",
       "                                                  OneHotEncoder(sparse=False),\n",
       "                                                  [&#x27;location&#x27;])])),\n",
       "                (&#x27;standardscaler&#x27;, StandardScaler()),\n",
       "                (&#x27;linearregression&#x27;, LinearRegression())])</pre><b>In a Jupyter environment, please rerun this cell to show the HTML representation or trust the notebook. <br />On GitHub, the HTML representation is unable to render, please try loading this page with nbviewer.org.</b></div><div class=\"sk-container\" hidden><div class=\"sk-item sk-dashed-wrapped\"><div class=\"sk-label-container\"><div class=\"sk-label sk-toggleable\"><input class=\"sk-toggleable__control sk-hidden--visually\" id=\"sk-estimator-id-9\" type=\"checkbox\" ><label for=\"sk-estimator-id-9\" class=\"sk-toggleable__label sk-toggleable__label-arrow\">Pipeline</label><div class=\"sk-toggleable__content\"><pre>Pipeline(steps=[(&#x27;columntransformer&#x27;,\n",
       "                 ColumnTransformer(remainder=&#x27;passthrough&#x27;,\n",
       "                                   transformers=[(&#x27;onehotencoder&#x27;,\n",
       "                                                  OneHotEncoder(sparse=False),\n",
       "                                                  [&#x27;location&#x27;])])),\n",
       "                (&#x27;standardscaler&#x27;, StandardScaler()),\n",
       "                (&#x27;linearregression&#x27;, LinearRegression())])</pre></div></div></div><div class=\"sk-serial\"><div class=\"sk-item sk-dashed-wrapped\"><div class=\"sk-label-container\"><div class=\"sk-label sk-toggleable\"><input class=\"sk-toggleable__control sk-hidden--visually\" id=\"sk-estimator-id-10\" type=\"checkbox\" ><label for=\"sk-estimator-id-10\" class=\"sk-toggleable__label sk-toggleable__label-arrow\">columntransformer: ColumnTransformer</label><div class=\"sk-toggleable__content\"><pre>ColumnTransformer(remainder=&#x27;passthrough&#x27;,\n",
       "                  transformers=[(&#x27;onehotencoder&#x27;, OneHotEncoder(sparse=False),\n",
       "                                 [&#x27;location&#x27;])])</pre></div></div></div><div class=\"sk-parallel\"><div class=\"sk-parallel-item\"><div class=\"sk-item\"><div class=\"sk-label-container\"><div class=\"sk-label sk-toggleable\"><input class=\"sk-toggleable__control sk-hidden--visually\" id=\"sk-estimator-id-11\" type=\"checkbox\" ><label for=\"sk-estimator-id-11\" class=\"sk-toggleable__label sk-toggleable__label-arrow\">onehotencoder</label><div class=\"sk-toggleable__content\"><pre>[&#x27;location&#x27;]</pre></div></div></div><div class=\"sk-serial\"><div class=\"sk-item\"><div class=\"sk-estimator sk-toggleable\"><input class=\"sk-toggleable__control sk-hidden--visually\" id=\"sk-estimator-id-12\" type=\"checkbox\" ><label for=\"sk-estimator-id-12\" class=\"sk-toggleable__label sk-toggleable__label-arrow\">OneHotEncoder</label><div class=\"sk-toggleable__content\"><pre>OneHotEncoder(sparse=False)</pre></div></div></div></div></div></div><div class=\"sk-parallel-item\"><div class=\"sk-item\"><div class=\"sk-label-container\"><div class=\"sk-label sk-toggleable\"><input class=\"sk-toggleable__control sk-hidden--visually\" id=\"sk-estimator-id-13\" type=\"checkbox\" ><label for=\"sk-estimator-id-13\" class=\"sk-toggleable__label sk-toggleable__label-arrow\">remainder</label><div class=\"sk-toggleable__content\"><pre>[&#x27;total_sqft&#x27;, &#x27;bath&#x27;, &#x27;bhk&#x27;]</pre></div></div></div><div class=\"sk-serial\"><div class=\"sk-item\"><div class=\"sk-estimator sk-toggleable\"><input class=\"sk-toggleable__control sk-hidden--visually\" id=\"sk-estimator-id-14\" type=\"checkbox\" ><label for=\"sk-estimator-id-14\" class=\"sk-toggleable__label sk-toggleable__label-arrow\">passthrough</label><div class=\"sk-toggleable__content\"><pre>passthrough</pre></div></div></div></div></div></div></div></div><div class=\"sk-item\"><div class=\"sk-estimator sk-toggleable\"><input class=\"sk-toggleable__control sk-hidden--visually\" id=\"sk-estimator-id-15\" type=\"checkbox\" ><label for=\"sk-estimator-id-15\" class=\"sk-toggleable__label sk-toggleable__label-arrow\">StandardScaler</label><div class=\"sk-toggleable__content\"><pre>StandardScaler()</pre></div></div></div><div class=\"sk-item\"><div class=\"sk-estimator sk-toggleable\"><input class=\"sk-toggleable__control sk-hidden--visually\" id=\"sk-estimator-id-16\" type=\"checkbox\" ><label for=\"sk-estimator-id-16\" class=\"sk-toggleable__label sk-toggleable__label-arrow\">LinearRegression</label><div class=\"sk-toggleable__content\"><pre>LinearRegression()</pre></div></div></div></div></div></div></div>"
      ],
      "text/plain": [
       "Pipeline(steps=[('columntransformer',\n",
       "                 ColumnTransformer(remainder='passthrough',\n",
       "                                   transformers=[('onehotencoder',\n",
       "                                                  OneHotEncoder(sparse=False),\n",
       "                                                  ['location'])])),\n",
       "                ('standardscaler', StandardScaler()),\n",
       "                ('linearregression', LinearRegression())])"
      ]
     },
     "execution_count": 99,
     "metadata": {},
     "output_type": "execute_result"
    }
   ],
   "source": [
    "pipe.fit(X_train,y_train)"
   ]
  },
  {
   "cell_type": "code",
   "execution_count": 100,
   "id": "e2e0d7be",
   "metadata": {},
   "outputs": [],
   "source": [
    "y_pred_lr = pipe.predict(X_test)"
   ]
  },
  {
   "cell_type": "code",
   "execution_count": 101,
   "id": "d4e6f87f",
   "metadata": {},
   "outputs": [
    {
     "data": {
      "text/plain": [
       "0.9098334375163118"
      ]
     },
     "execution_count": 101,
     "metadata": {},
     "output_type": "execute_result"
    }
   ],
   "source": [
    "r2_score(y_test, y_pred_lr)"
   ]
  },
  {
   "cell_type": "markdown",
   "id": "8dff6edb",
   "metadata": {},
   "source": [
    "# Applying Lasso"
   ]
  },
  {
   "cell_type": "code",
   "execution_count": 102,
   "id": "3784bc86",
   "metadata": {},
   "outputs": [],
   "source": [
    "lasso = Lasso()"
   ]
  },
  {
   "cell_type": "code",
   "execution_count": 103,
   "id": "0bc2ebcf",
   "metadata": {},
   "outputs": [],
   "source": [
    "pipe = make_pipeline(column_trans,scaler, lasso)"
   ]
  },
  {
   "cell_type": "code",
   "execution_count": 105,
   "id": "2f1e48eb",
   "metadata": {},
   "outputs": [
    {
     "name": "stderr",
     "output_type": "stream",
     "text": [
      "C:\\Users\\Jayesh\\anaconda3\\Lib\\site-packages\\sklearn\\preprocessing\\_encoders.py:868: FutureWarning: `sparse` was renamed to `sparse_output` in version 1.2 and will be removed in 1.4. `sparse_output` is ignored unless you leave `sparse` to its default value.\n",
      "  warnings.warn(\n"
     ]
    },
    {
     "data": {
      "text/html": [
       "<style>#sk-container-id-3 {color: black;background-color: white;}#sk-container-id-3 pre{padding: 0;}#sk-container-id-3 div.sk-toggleable {background-color: white;}#sk-container-id-3 label.sk-toggleable__label {cursor: pointer;display: block;width: 100%;margin-bottom: 0;padding: 0.3em;box-sizing: border-box;text-align: center;}#sk-container-id-3 label.sk-toggleable__label-arrow:before {content: \"▸\";float: left;margin-right: 0.25em;color: #696969;}#sk-container-id-3 label.sk-toggleable__label-arrow:hover:before {color: black;}#sk-container-id-3 div.sk-estimator:hover label.sk-toggleable__label-arrow:before {color: black;}#sk-container-id-3 div.sk-toggleable__content {max-height: 0;max-width: 0;overflow: hidden;text-align: left;background-color: #f0f8ff;}#sk-container-id-3 div.sk-toggleable__content pre {margin: 0.2em;color: black;border-radius: 0.25em;background-color: #f0f8ff;}#sk-container-id-3 input.sk-toggleable__control:checked~div.sk-toggleable__content {max-height: 200px;max-width: 100%;overflow: auto;}#sk-container-id-3 input.sk-toggleable__control:checked~label.sk-toggleable__label-arrow:before {content: \"▾\";}#sk-container-id-3 div.sk-estimator input.sk-toggleable__control:checked~label.sk-toggleable__label {background-color: #d4ebff;}#sk-container-id-3 div.sk-label input.sk-toggleable__control:checked~label.sk-toggleable__label {background-color: #d4ebff;}#sk-container-id-3 input.sk-hidden--visually {border: 0;clip: rect(1px 1px 1px 1px);clip: rect(1px, 1px, 1px, 1px);height: 1px;margin: -1px;overflow: hidden;padding: 0;position: absolute;width: 1px;}#sk-container-id-3 div.sk-estimator {font-family: monospace;background-color: #f0f8ff;border: 1px dotted black;border-radius: 0.25em;box-sizing: border-box;margin-bottom: 0.5em;}#sk-container-id-3 div.sk-estimator:hover {background-color: #d4ebff;}#sk-container-id-3 div.sk-parallel-item::after {content: \"\";width: 100%;border-bottom: 1px solid gray;flex-grow: 1;}#sk-container-id-3 div.sk-label:hover label.sk-toggleable__label {background-color: #d4ebff;}#sk-container-id-3 div.sk-serial::before {content: \"\";position: absolute;border-left: 1px solid gray;box-sizing: border-box;top: 0;bottom: 0;left: 50%;z-index: 0;}#sk-container-id-3 div.sk-serial {display: flex;flex-direction: column;align-items: center;background-color: white;padding-right: 0.2em;padding-left: 0.2em;position: relative;}#sk-container-id-3 div.sk-item {position: relative;z-index: 1;}#sk-container-id-3 div.sk-parallel {display: flex;align-items: stretch;justify-content: center;background-color: white;position: relative;}#sk-container-id-3 div.sk-item::before, #sk-container-id-3 div.sk-parallel-item::before {content: \"\";position: absolute;border-left: 1px solid gray;box-sizing: border-box;top: 0;bottom: 0;left: 50%;z-index: -1;}#sk-container-id-3 div.sk-parallel-item {display: flex;flex-direction: column;z-index: 1;position: relative;background-color: white;}#sk-container-id-3 div.sk-parallel-item:first-child::after {align-self: flex-end;width: 50%;}#sk-container-id-3 div.sk-parallel-item:last-child::after {align-self: flex-start;width: 50%;}#sk-container-id-3 div.sk-parallel-item:only-child::after {width: 0;}#sk-container-id-3 div.sk-dashed-wrapped {border: 1px dashed gray;margin: 0 0.4em 0.5em 0.4em;box-sizing: border-box;padding-bottom: 0.4em;background-color: white;}#sk-container-id-3 div.sk-label label {font-family: monospace;font-weight: bold;display: inline-block;line-height: 1.2em;}#sk-container-id-3 div.sk-label-container {text-align: center;}#sk-container-id-3 div.sk-container {/* jupyter's `normalize.less` sets `[hidden] { display: none; }` but bootstrap.min.css set `[hidden] { display: none !important; }` so we also need the `!important` here to be able to override the default hidden behavior on the sphinx rendered scikit-learn.org. See: https://github.com/scikit-learn/scikit-learn/issues/21755 */display: inline-block !important;position: relative;}#sk-container-id-3 div.sk-text-repr-fallback {display: none;}</style><div id=\"sk-container-id-3\" class=\"sk-top-container\"><div class=\"sk-text-repr-fallback\"><pre>Pipeline(steps=[(&#x27;columntransformer&#x27;,\n",
       "                 ColumnTransformer(remainder=&#x27;passthrough&#x27;,\n",
       "                                   transformers=[(&#x27;onehotencoder&#x27;,\n",
       "                                                  OneHotEncoder(sparse=False),\n",
       "                                                  [&#x27;location&#x27;])])),\n",
       "                (&#x27;standardscaler&#x27;, StandardScaler()), (&#x27;lasso&#x27;, Lasso())])</pre><b>In a Jupyter environment, please rerun this cell to show the HTML representation or trust the notebook. <br />On GitHub, the HTML representation is unable to render, please try loading this page with nbviewer.org.</b></div><div class=\"sk-container\" hidden><div class=\"sk-item sk-dashed-wrapped\"><div class=\"sk-label-container\"><div class=\"sk-label sk-toggleable\"><input class=\"sk-toggleable__control sk-hidden--visually\" id=\"sk-estimator-id-17\" type=\"checkbox\" ><label for=\"sk-estimator-id-17\" class=\"sk-toggleable__label sk-toggleable__label-arrow\">Pipeline</label><div class=\"sk-toggleable__content\"><pre>Pipeline(steps=[(&#x27;columntransformer&#x27;,\n",
       "                 ColumnTransformer(remainder=&#x27;passthrough&#x27;,\n",
       "                                   transformers=[(&#x27;onehotencoder&#x27;,\n",
       "                                                  OneHotEncoder(sparse=False),\n",
       "                                                  [&#x27;location&#x27;])])),\n",
       "                (&#x27;standardscaler&#x27;, StandardScaler()), (&#x27;lasso&#x27;, Lasso())])</pre></div></div></div><div class=\"sk-serial\"><div class=\"sk-item sk-dashed-wrapped\"><div class=\"sk-label-container\"><div class=\"sk-label sk-toggleable\"><input class=\"sk-toggleable__control sk-hidden--visually\" id=\"sk-estimator-id-18\" type=\"checkbox\" ><label for=\"sk-estimator-id-18\" class=\"sk-toggleable__label sk-toggleable__label-arrow\">columntransformer: ColumnTransformer</label><div class=\"sk-toggleable__content\"><pre>ColumnTransformer(remainder=&#x27;passthrough&#x27;,\n",
       "                  transformers=[(&#x27;onehotencoder&#x27;, OneHotEncoder(sparse=False),\n",
       "                                 [&#x27;location&#x27;])])</pre></div></div></div><div class=\"sk-parallel\"><div class=\"sk-parallel-item\"><div class=\"sk-item\"><div class=\"sk-label-container\"><div class=\"sk-label sk-toggleable\"><input class=\"sk-toggleable__control sk-hidden--visually\" id=\"sk-estimator-id-19\" type=\"checkbox\" ><label for=\"sk-estimator-id-19\" class=\"sk-toggleable__label sk-toggleable__label-arrow\">onehotencoder</label><div class=\"sk-toggleable__content\"><pre>[&#x27;location&#x27;]</pre></div></div></div><div class=\"sk-serial\"><div class=\"sk-item\"><div class=\"sk-estimator sk-toggleable\"><input class=\"sk-toggleable__control sk-hidden--visually\" id=\"sk-estimator-id-20\" type=\"checkbox\" ><label for=\"sk-estimator-id-20\" class=\"sk-toggleable__label sk-toggleable__label-arrow\">OneHotEncoder</label><div class=\"sk-toggleable__content\"><pre>OneHotEncoder(sparse=False)</pre></div></div></div></div></div></div><div class=\"sk-parallel-item\"><div class=\"sk-item\"><div class=\"sk-label-container\"><div class=\"sk-label sk-toggleable\"><input class=\"sk-toggleable__control sk-hidden--visually\" id=\"sk-estimator-id-21\" type=\"checkbox\" ><label for=\"sk-estimator-id-21\" class=\"sk-toggleable__label sk-toggleable__label-arrow\">remainder</label><div class=\"sk-toggleable__content\"><pre>[&#x27;total_sqft&#x27;, &#x27;bath&#x27;, &#x27;bhk&#x27;]</pre></div></div></div><div class=\"sk-serial\"><div class=\"sk-item\"><div class=\"sk-estimator sk-toggleable\"><input class=\"sk-toggleable__control sk-hidden--visually\" id=\"sk-estimator-id-22\" type=\"checkbox\" ><label for=\"sk-estimator-id-22\" class=\"sk-toggleable__label sk-toggleable__label-arrow\">passthrough</label><div class=\"sk-toggleable__content\"><pre>passthrough</pre></div></div></div></div></div></div></div></div><div class=\"sk-item\"><div class=\"sk-estimator sk-toggleable\"><input class=\"sk-toggleable__control sk-hidden--visually\" id=\"sk-estimator-id-23\" type=\"checkbox\" ><label for=\"sk-estimator-id-23\" class=\"sk-toggleable__label sk-toggleable__label-arrow\">StandardScaler</label><div class=\"sk-toggleable__content\"><pre>StandardScaler()</pre></div></div></div><div class=\"sk-item\"><div class=\"sk-estimator sk-toggleable\"><input class=\"sk-toggleable__control sk-hidden--visually\" id=\"sk-estimator-id-24\" type=\"checkbox\" ><label for=\"sk-estimator-id-24\" class=\"sk-toggleable__label sk-toggleable__label-arrow\">Lasso</label><div class=\"sk-toggleable__content\"><pre>Lasso()</pre></div></div></div></div></div></div></div>"
      ],
      "text/plain": [
       "Pipeline(steps=[('columntransformer',\n",
       "                 ColumnTransformer(remainder='passthrough',\n",
       "                                   transformers=[('onehotencoder',\n",
       "                                                  OneHotEncoder(sparse=False),\n",
       "                                                  ['location'])])),\n",
       "                ('standardscaler', StandardScaler()), ('lasso', Lasso())])"
      ]
     },
     "execution_count": 105,
     "metadata": {},
     "output_type": "execute_result"
    }
   ],
   "source": [
    "pipe.fit(X_train,y_train)"
   ]
  },
  {
   "cell_type": "code",
   "execution_count": 106,
   "id": "e82a4d64",
   "metadata": {},
   "outputs": [
    {
     "data": {
      "text/plain": [
       "0.8788662075316348"
      ]
     },
     "execution_count": 106,
     "metadata": {},
     "output_type": "execute_result"
    }
   ],
   "source": [
    "y_pred_lasso = pipe.predict(X_test)\n",
    "r2_score(y_test,y_pred_lasso)"
   ]
  },
  {
   "cell_type": "markdown",
   "id": "9934fe44",
   "metadata": {},
   "source": [
    "# Applying Ridge"
   ]
  },
  {
   "cell_type": "code",
   "execution_count": 107,
   "id": "c952e0ed",
   "metadata": {},
   "outputs": [],
   "source": [
    "ridge = Ridge()"
   ]
  },
  {
   "cell_type": "code",
   "execution_count": 108,
   "id": "636ebf12",
   "metadata": {},
   "outputs": [],
   "source": [
    "pipe = make_pipeline(column_trans,scaler,ridge)"
   ]
  },
  {
   "cell_type": "code",
   "execution_count": 109,
   "id": "667f00d1",
   "metadata": {},
   "outputs": [
    {
     "name": "stderr",
     "output_type": "stream",
     "text": [
      "C:\\Users\\Jayesh\\anaconda3\\Lib\\site-packages\\sklearn\\preprocessing\\_encoders.py:868: FutureWarning: `sparse` was renamed to `sparse_output` in version 1.2 and will be removed in 1.4. `sparse_output` is ignored unless you leave `sparse` to its default value.\n",
      "  warnings.warn(\n"
     ]
    },
    {
     "data": {
      "text/html": [
       "<style>#sk-container-id-4 {color: black;background-color: white;}#sk-container-id-4 pre{padding: 0;}#sk-container-id-4 div.sk-toggleable {background-color: white;}#sk-container-id-4 label.sk-toggleable__label {cursor: pointer;display: block;width: 100%;margin-bottom: 0;padding: 0.3em;box-sizing: border-box;text-align: center;}#sk-container-id-4 label.sk-toggleable__label-arrow:before {content: \"▸\";float: left;margin-right: 0.25em;color: #696969;}#sk-container-id-4 label.sk-toggleable__label-arrow:hover:before {color: black;}#sk-container-id-4 div.sk-estimator:hover label.sk-toggleable__label-arrow:before {color: black;}#sk-container-id-4 div.sk-toggleable__content {max-height: 0;max-width: 0;overflow: hidden;text-align: left;background-color: #f0f8ff;}#sk-container-id-4 div.sk-toggleable__content pre {margin: 0.2em;color: black;border-radius: 0.25em;background-color: #f0f8ff;}#sk-container-id-4 input.sk-toggleable__control:checked~div.sk-toggleable__content {max-height: 200px;max-width: 100%;overflow: auto;}#sk-container-id-4 input.sk-toggleable__control:checked~label.sk-toggleable__label-arrow:before {content: \"▾\";}#sk-container-id-4 div.sk-estimator input.sk-toggleable__control:checked~label.sk-toggleable__label {background-color: #d4ebff;}#sk-container-id-4 div.sk-label input.sk-toggleable__control:checked~label.sk-toggleable__label {background-color: #d4ebff;}#sk-container-id-4 input.sk-hidden--visually {border: 0;clip: rect(1px 1px 1px 1px);clip: rect(1px, 1px, 1px, 1px);height: 1px;margin: -1px;overflow: hidden;padding: 0;position: absolute;width: 1px;}#sk-container-id-4 div.sk-estimator {font-family: monospace;background-color: #f0f8ff;border: 1px dotted black;border-radius: 0.25em;box-sizing: border-box;margin-bottom: 0.5em;}#sk-container-id-4 div.sk-estimator:hover {background-color: #d4ebff;}#sk-container-id-4 div.sk-parallel-item::after {content: \"\";width: 100%;border-bottom: 1px solid gray;flex-grow: 1;}#sk-container-id-4 div.sk-label:hover label.sk-toggleable__label {background-color: #d4ebff;}#sk-container-id-4 div.sk-serial::before {content: \"\";position: absolute;border-left: 1px solid gray;box-sizing: border-box;top: 0;bottom: 0;left: 50%;z-index: 0;}#sk-container-id-4 div.sk-serial {display: flex;flex-direction: column;align-items: center;background-color: white;padding-right: 0.2em;padding-left: 0.2em;position: relative;}#sk-container-id-4 div.sk-item {position: relative;z-index: 1;}#sk-container-id-4 div.sk-parallel {display: flex;align-items: stretch;justify-content: center;background-color: white;position: relative;}#sk-container-id-4 div.sk-item::before, #sk-container-id-4 div.sk-parallel-item::before {content: \"\";position: absolute;border-left: 1px solid gray;box-sizing: border-box;top: 0;bottom: 0;left: 50%;z-index: -1;}#sk-container-id-4 div.sk-parallel-item {display: flex;flex-direction: column;z-index: 1;position: relative;background-color: white;}#sk-container-id-4 div.sk-parallel-item:first-child::after {align-self: flex-end;width: 50%;}#sk-container-id-4 div.sk-parallel-item:last-child::after {align-self: flex-start;width: 50%;}#sk-container-id-4 div.sk-parallel-item:only-child::after {width: 0;}#sk-container-id-4 div.sk-dashed-wrapped {border: 1px dashed gray;margin: 0 0.4em 0.5em 0.4em;box-sizing: border-box;padding-bottom: 0.4em;background-color: white;}#sk-container-id-4 div.sk-label label {font-family: monospace;font-weight: bold;display: inline-block;line-height: 1.2em;}#sk-container-id-4 div.sk-label-container {text-align: center;}#sk-container-id-4 div.sk-container {/* jupyter's `normalize.less` sets `[hidden] { display: none; }` but bootstrap.min.css set `[hidden] { display: none !important; }` so we also need the `!important` here to be able to override the default hidden behavior on the sphinx rendered scikit-learn.org. See: https://github.com/scikit-learn/scikit-learn/issues/21755 */display: inline-block !important;position: relative;}#sk-container-id-4 div.sk-text-repr-fallback {display: none;}</style><div id=\"sk-container-id-4\" class=\"sk-top-container\"><div class=\"sk-text-repr-fallback\"><pre>Pipeline(steps=[(&#x27;columntransformer&#x27;,\n",
       "                 ColumnTransformer(remainder=&#x27;passthrough&#x27;,\n",
       "                                   transformers=[(&#x27;onehotencoder&#x27;,\n",
       "                                                  OneHotEncoder(sparse=False),\n",
       "                                                  [&#x27;location&#x27;])])),\n",
       "                (&#x27;standardscaler&#x27;, StandardScaler()), (&#x27;ridge&#x27;, Ridge())])</pre><b>In a Jupyter environment, please rerun this cell to show the HTML representation or trust the notebook. <br />On GitHub, the HTML representation is unable to render, please try loading this page with nbviewer.org.</b></div><div class=\"sk-container\" hidden><div class=\"sk-item sk-dashed-wrapped\"><div class=\"sk-label-container\"><div class=\"sk-label sk-toggleable\"><input class=\"sk-toggleable__control sk-hidden--visually\" id=\"sk-estimator-id-25\" type=\"checkbox\" ><label for=\"sk-estimator-id-25\" class=\"sk-toggleable__label sk-toggleable__label-arrow\">Pipeline</label><div class=\"sk-toggleable__content\"><pre>Pipeline(steps=[(&#x27;columntransformer&#x27;,\n",
       "                 ColumnTransformer(remainder=&#x27;passthrough&#x27;,\n",
       "                                   transformers=[(&#x27;onehotencoder&#x27;,\n",
       "                                                  OneHotEncoder(sparse=False),\n",
       "                                                  [&#x27;location&#x27;])])),\n",
       "                (&#x27;standardscaler&#x27;, StandardScaler()), (&#x27;ridge&#x27;, Ridge())])</pre></div></div></div><div class=\"sk-serial\"><div class=\"sk-item sk-dashed-wrapped\"><div class=\"sk-label-container\"><div class=\"sk-label sk-toggleable\"><input class=\"sk-toggleable__control sk-hidden--visually\" id=\"sk-estimator-id-26\" type=\"checkbox\" ><label for=\"sk-estimator-id-26\" class=\"sk-toggleable__label sk-toggleable__label-arrow\">columntransformer: ColumnTransformer</label><div class=\"sk-toggleable__content\"><pre>ColumnTransformer(remainder=&#x27;passthrough&#x27;,\n",
       "                  transformers=[(&#x27;onehotencoder&#x27;, OneHotEncoder(sparse=False),\n",
       "                                 [&#x27;location&#x27;])])</pre></div></div></div><div class=\"sk-parallel\"><div class=\"sk-parallel-item\"><div class=\"sk-item\"><div class=\"sk-label-container\"><div class=\"sk-label sk-toggleable\"><input class=\"sk-toggleable__control sk-hidden--visually\" id=\"sk-estimator-id-27\" type=\"checkbox\" ><label for=\"sk-estimator-id-27\" class=\"sk-toggleable__label sk-toggleable__label-arrow\">onehotencoder</label><div class=\"sk-toggleable__content\"><pre>[&#x27;location&#x27;]</pre></div></div></div><div class=\"sk-serial\"><div class=\"sk-item\"><div class=\"sk-estimator sk-toggleable\"><input class=\"sk-toggleable__control sk-hidden--visually\" id=\"sk-estimator-id-28\" type=\"checkbox\" ><label for=\"sk-estimator-id-28\" class=\"sk-toggleable__label sk-toggleable__label-arrow\">OneHotEncoder</label><div class=\"sk-toggleable__content\"><pre>OneHotEncoder(sparse=False)</pre></div></div></div></div></div></div><div class=\"sk-parallel-item\"><div class=\"sk-item\"><div class=\"sk-label-container\"><div class=\"sk-label sk-toggleable\"><input class=\"sk-toggleable__control sk-hidden--visually\" id=\"sk-estimator-id-29\" type=\"checkbox\" ><label for=\"sk-estimator-id-29\" class=\"sk-toggleable__label sk-toggleable__label-arrow\">remainder</label><div class=\"sk-toggleable__content\"><pre>[&#x27;total_sqft&#x27;, &#x27;bath&#x27;, &#x27;bhk&#x27;]</pre></div></div></div><div class=\"sk-serial\"><div class=\"sk-item\"><div class=\"sk-estimator sk-toggleable\"><input class=\"sk-toggleable__control sk-hidden--visually\" id=\"sk-estimator-id-30\" type=\"checkbox\" ><label for=\"sk-estimator-id-30\" class=\"sk-toggleable__label sk-toggleable__label-arrow\">passthrough</label><div class=\"sk-toggleable__content\"><pre>passthrough</pre></div></div></div></div></div></div></div></div><div class=\"sk-item\"><div class=\"sk-estimator sk-toggleable\"><input class=\"sk-toggleable__control sk-hidden--visually\" id=\"sk-estimator-id-31\" type=\"checkbox\" ><label for=\"sk-estimator-id-31\" class=\"sk-toggleable__label sk-toggleable__label-arrow\">StandardScaler</label><div class=\"sk-toggleable__content\"><pre>StandardScaler()</pre></div></div></div><div class=\"sk-item\"><div class=\"sk-estimator sk-toggleable\"><input class=\"sk-toggleable__control sk-hidden--visually\" id=\"sk-estimator-id-32\" type=\"checkbox\" ><label for=\"sk-estimator-id-32\" class=\"sk-toggleable__label sk-toggleable__label-arrow\">Ridge</label><div class=\"sk-toggleable__content\"><pre>Ridge()</pre></div></div></div></div></div></div></div>"
      ],
      "text/plain": [
       "Pipeline(steps=[('columntransformer',\n",
       "                 ColumnTransformer(remainder='passthrough',\n",
       "                                   transformers=[('onehotencoder',\n",
       "                                                  OneHotEncoder(sparse=False),\n",
       "                                                  ['location'])])),\n",
       "                ('standardscaler', StandardScaler()), ('ridge', Ridge())])"
      ]
     },
     "execution_count": 109,
     "metadata": {},
     "output_type": "execute_result"
    }
   ],
   "source": [
    "pipe.fit(X_train,y_train)"
   ]
  },
  {
   "cell_type": "code",
   "execution_count": 110,
   "id": "724f8d4f",
   "metadata": {},
   "outputs": [
    {
     "data": {
      "text/plain": [
       "0.9098795001093821"
      ]
     },
     "execution_count": 110,
     "metadata": {},
     "output_type": "execute_result"
    }
   ],
   "source": [
    "y_pred_ridge = pipe.predict(X_test)\n",
    "r2_score(y_test,y_pred_ridge)"
   ]
  },
  {
   "cell_type": "code",
   "execution_count": 114,
   "id": "abc34d79",
   "metadata": {},
   "outputs": [
    {
     "name": "stdout",
     "output_type": "stream",
     "text": [
      "No Regularization: 0.9098334375163118\n",
      "lasso: 0.8788662075316348\n",
      "Ridge: 0.9098795001093821\n"
     ]
    }
   ],
   "source": [
    "print(\"No Regularization:\",r2_score(y_test,y_pred_lr))\n",
    "print(\"lasso:\",r2_score(y_test,y_pred_lasso))\n",
    "print(\"Ridge:\",r2_score(y_test,y_pred_ridge))"
   ]
  },
  {
   "cell_type": "code",
   "execution_count": 115,
   "id": "04312e23",
   "metadata": {},
   "outputs": [],
   "source": [
    "import pickle"
   ]
  },
  {
   "cell_type": "code",
   "execution_count": 116,
   "id": "236b839e",
   "metadata": {},
   "outputs": [],
   "source": [
    "pickle.dump(pipe,open('RidgeModel.pkl','wb'))"
   ]
  },
  {
   "cell_type": "code",
   "execution_count": null,
   "id": "628f7fb7",
   "metadata": {},
   "outputs": [],
   "source": []
  }
 ],
 "metadata": {
  "kernelspec": {
   "display_name": "Python 3 (ipykernel)",
   "language": "python",
   "name": "python3"
  },
  "language_info": {
   "codemirror_mode": {
    "name": "ipython",
    "version": 3
   },
   "file_extension": ".py",
   "mimetype": "text/x-python",
   "name": "python",
   "nbconvert_exporter": "python",
   "pygments_lexer": "ipython3",
   "version": "3.12.3"
  }
 },
 "nbformat": 4,
 "nbformat_minor": 5
}
