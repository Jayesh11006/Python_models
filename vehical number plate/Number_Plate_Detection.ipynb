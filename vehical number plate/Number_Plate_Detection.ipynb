{
 "cells": [
  {
   "cell_type": "code",
   "execution_count": 1,
   "id": "aa44548c-6bf5-4b73-94be-add8e9ca6ab6",
   "metadata": {},
   "outputs": [
    {
     "ename": "ImportError",
     "evalue": "Bindings generation error. Submodule name should always start with a parent module name. Parent name: cv2.cv2. Submodule name: cv2",
     "output_type": "error",
     "traceback": [
      "\u001b[1;31m---------------------------------------------------------------------------\u001b[0m",
      "\u001b[1;31mImportError\u001b[0m                               Traceback (most recent call last)",
      "Cell \u001b[1;32mIn[1], line 1\u001b[0m\n\u001b[1;32m----> 1\u001b[0m \u001b[38;5;28;01mimport\u001b[39;00m \u001b[38;5;21;01mcv2\u001b[39;00m\n\u001b[0;32m      2\u001b[0m \u001b[38;5;28;01mimport\u001b[39;00m \u001b[38;5;21;01mnumpy\u001b[39;00m \u001b[38;5;28;01mas\u001b[39;00m \u001b[38;5;21;01mnp\u001b[39;00m\n\u001b[0;32m      3\u001b[0m \u001b[38;5;28;01mfrom\u001b[39;00m \u001b[38;5;21;01mIPython\u001b[39;00m\u001b[38;5;21;01m.\u001b[39;00m\u001b[38;5;21;01mdisplay\u001b[39;00m \u001b[38;5;28;01mimport\u001b[39;00m display, Image\n",
      "File \u001b[1;32m~\\AppData\\Local\\Programs\\Python\\Python312\\Lib\\site-packages\\cv2\\__init__.py:8\u001b[0m\n\u001b[0;32m      5\u001b[0m \u001b[38;5;28;01mimport\u001b[39;00m \u001b[38;5;21;01mimportlib\u001b[39;00m\n\u001b[0;32m      6\u001b[0m \u001b[38;5;28;01mimport\u001b[39;00m \u001b[38;5;21;01msys\u001b[39;00m\n\u001b[1;32m----> 8\u001b[0m \u001b[38;5;28;01mfrom\u001b[39;00m \u001b[38;5;21;01m.\u001b[39;00m\u001b[38;5;21;01mcv2\u001b[39;00m \u001b[38;5;28;01mimport\u001b[39;00m \u001b[38;5;241m*\u001b[39m\n\u001b[0;32m      9\u001b[0m \u001b[38;5;28;01mfrom\u001b[39;00m \u001b[38;5;21;01m.\u001b[39;00m\u001b[38;5;21;01mcv2\u001b[39;00m \u001b[38;5;28;01mimport\u001b[39;00m _registerMatType\n\u001b[0;32m     10\u001b[0m \u001b[38;5;28;01mfrom\u001b[39;00m \u001b[38;5;21;01m.\u001b[39;00m \u001b[38;5;28;01mimport\u001b[39;00m mat_wrapper\n",
      "\u001b[1;31mImportError\u001b[0m: Bindings generation error. Submodule name should always start with a parent module name. Parent name: cv2.cv2. Submodule name: cv2"
     ]
    }
   ],
   "source": [
    "import cv2\n",
    "import numpy as np\n",
    "from IPython.display import display, Image\n",
    "import os\n",
    "\n",
    "# Define paths to the YOLO configuration and weights files\n",
    "yolo_cfg_path = os.path.abspath(\"yolov3.cfg\")\n",
    "yolo_weights_path = os.path.abspath(\"yolov3.weights\")\n",
    "\n",
    "# Load YOLO model\n",
    "try:\n",
    "    net = cv2.dnn.readNet(yolo_weights_path, yolo_cfg_path)\n",
    "    layer_names = net.getLayerNames()\n",
    "    output_layers = [layer_names[i[0] - 1] for i in net.getUnconnectedOutLayers()]\n",
    "    print(\"YOLO model loaded successfully\")\n",
    "except cv2.error as e:\n",
    "    print(f\"Error loading YOLO model: {e}\")\n",
    "\n",
    "def detect_number_plate(frame):\n",
    "    height, width, channels = frame.shape\n",
    "    blob = cv2.dnn.blobFromImage(frame, 0.00392, (416, 416), (0, 0, 0), True, crop=False)\n",
    "    net.setInput(blob)\n",
    "    outs = net.forward(output_layers)\n",
    "    \n",
    "    for out in outs:\n",
    "        for detection in out:\n",
    "            scores = detection[5:]\n",
    "            class_id = np.argmax(scores)\n",
    "            confidence = scores[class_id]\n",
    "            if confidence > 0.5:\n",
    "                center_x = int(detection[0] * width)\n",
    "                center_y = int(detection[1] * height)\n",
    "                w = int(detection[2] * width)\n",
    "                h = int(detection[3] * height)\n",
    "                x = int(center_x - w / 2)\n",
    "                y = int(center_y - h / 2)\n",
    "                number_plate = frame[y:y + h, x:x + w]\n",
    "                return number_plate, (x, y, w, h)\n",
    "    return None, None\n",
    "\n",
    "# Load an example image\n",
    "image_path = \"path/to/your/image.jpg\"\n",
    "frame = cv2.imread(image_path)\n",
    "if frame is None:\n",
    "    print(\"Failed to load image\")\n",
    "\n",
    "number_plate_img, coords = detect_number_plate(frame)\n",
    "if number_plate_img is not None:\n",
    "    x, y, w, h = coords\n",
    "    cv2.rectangle(frame, (x, y), (x + w, y + h), (0, 255, 0), 2)\n",
    "    display(Image(data=cv2.imencode('.jpg', frame)[1].tobytes()))\n",
    "else:\n",
    "    print(\"No number plate detected\")\n"
   ]
  },
  {
   "cell_type": "code",
   "execution_count": null,
   "id": "713afba9-8082-4617-94ec-844a41db854e",
   "metadata": {},
   "outputs": [],
   "source": [
    "#pip install flask opencv-python pytesseract requests\n"
   ]
  },
  {
   "cell_type": "code",
   "execution_count": null,
   "id": "f9033479-eb42-4977-8a53-950b34eb9ff4",
   "metadata": {},
   "outputs": [],
   "source": [
    "#pip install opencv-python-headless==4.5.5.64\n"
   ]
  },
  {
   "cell_type": "code",
   "execution_count": null,
   "id": "a8699ad4-0695-4a7a-8d6e-5859f6cb228b",
   "metadata": {},
   "outputs": [],
   "source": [
    "import requests\n",
    "\n",
    "url = 'https://pjreddie.com/media/files/yolov3.weights'\n",
    "response = requests.get(url, stream=True)\n",
    "\n",
    "with open('yolov3.weights', 'wb') as file:\n",
    "    for chunk in response.iter_content(chunk_size=1024):\n",
    "        if chunk:\n",
    "            file.write(chunk)\n"
   ]
  },
  {
   "cell_type": "code",
   "execution_count": null,
   "id": "336d2ae6-568b-49d9-b567-9c48679d30ad",
   "metadata": {},
   "outputs": [],
   "source": []
  }
 ],
 "metadata": {
  "kernelspec": {
   "display_name": "Python 3 (ipykernel)",
   "language": "python",
   "name": "python3"
  },
  "language_info": {
   "codemirror_mode": {
    "name": "ipython",
    "version": 3
   },
   "file_extension": ".py",
   "mimetype": "text/x-python",
   "name": "python",
   "nbconvert_exporter": "python",
   "pygments_lexer": "ipython3",
   "version": "3.12.3"
  }
 },
 "nbformat": 4,
 "nbformat_minor": 5
}
