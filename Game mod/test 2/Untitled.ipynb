{
 "cells": [
  {
   "cell_type": "code",
   "execution_count": null,
   "id": "acde61d0-79c1-4628-9e21-eace6b47d3c1",
   "metadata": {},
   "outputs": [],
   "source": []
  }
 ],
 "metadata": {
  "kernelspec": {
   "display_name": "",
   "name": ""
  },
  "language_info": {
   "name": ""
  }
 },
 "nbformat": 4,
 "nbformat_minor": 5
}
