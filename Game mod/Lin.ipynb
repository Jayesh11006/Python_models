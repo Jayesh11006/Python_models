# Required Libraries
import pandas as pd
from sklearn.model_selection import train_test_split
from sklearn.linear_model import LinearRegression
from sklearn import metrics

# Data Loading
data = pd.read_csv('https://raw.githubusercontent.com/rush4ratio/video-game-sales-data/main/Video_Game_Sales_as_of_Jan_2017_with_Ratings.csv')

# Required columns: 'Genre', 'Platform', 'Critic_Score', 'User_Score', 'Global_Sales', 'System_Requirement'

# Selecting Features and Target
X = data[['Genre', 'Platform', 'Critic_Score', 'User_Score', 'Global_Sales']]
y = data['System_Requirement']  # Target: System Requirement

# Convert categorical features to numerical using One-Hot Encoding
X = pd.get_dummies(X)

# Splitting Data into Training and Testing Sets
X_train, X_test, y_train, y_test = train_test_split(X, y, test_size=0.2, random_state=42)

# Creating Linear Regression Model
model = LinearRegression()

# Training the Model
model.fit(X_train, y_train)

# Making Predictions
predictions = model.predict(X_test)

# Evaluating the Model
print('Mean Absolute Error:', metrics.mean_absolute_error(y_test, predictions))
print('Mean Squared Error:', metrics.mean_squared_error(y_test, predictions))
print('Root Mean Squared Error:', metrics.mean_squared_error(y_test, predictions, squared=False))

# Example of using the model for a new game
# Let's assume new game features
new_game_features = [[10, 1, 85, 8.5, 1.2]]  # Genre: 10 (Action), Platform: 1 (PC), Critic Score: 85, User Score: 8.5, Global Sales: 1.2
# Assuming 'Genre' and 'Platform' were one-hot encoded, hence the values
# 'Genre' - 10 represents 'Action'
# 'Platform' - 1 represents 'PC'
predicted_requirements = model.predict(new_game_features)
print('Predicted System Requirements:', predicted_requirements)
