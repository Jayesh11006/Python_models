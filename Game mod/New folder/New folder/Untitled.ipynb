{
 "cells": [
  {
   "cell_type": "code",
   "execution_count": 4,
   "id": "d7d390c3",
   "metadata": {},
   "outputs": [
    {
     "name": "stdout",
     "output_type": "stream",
     "text": [
      "Model trained and save succeefully!\n"
     ]
    }
   ],
   "source": [
    "import pandas as pd\n",
    "from sklearn.ensemble import RandomForestClassifier\n",
    "from sklearn.preprocessing import LabelEncoder\n",
    "import joblib\n",
    "import re\n",
    "\n",
    "# Load the data\n",
    "data = {\n",
    "    'Memory': [6, 8, 8, 4, 4],\n",
    "    'Graphics_Card': ['NVIDIA GeForce GTX 980', 'NVIDIA GeForce GTX 960', 'NVIDIA GeForce GTX 970', 'Intel HD 4000', 'Intel HD 4000'],\n",
    "    'CPU': ['Intel Core i5-6600', 'Intel Core i5-2500K', 'Intel Core i5-3570K', 'Intel Core i3-3225', 'Intel Core 2 Duo E8400'],\n",
    "    'File_Size': [30, 70, 70, 15, 23],\n",
    "    'OS': ['Windows 10', 'Windows 10 64-bit', 'Windows 10 64-Bit', 'Windows 7/8/10 64-bit', 'Windows 7 64-bit'],\n",
    "    'Name': ['Hogwarts Legacy', 'God of War', 'Cyberpunk 2077', 'Fortnite', 'Valorant']\n",
    "}\n",
    "\n",
    "df = pd.DataFrame(data)\n",
    "\n",
    "df['CPU'] = df['CPU'].apply(lambda x:re.findall(r'\\d',x)[0]).astype(int)\n",
    "\n",
    "# Convert categorical features to numerical using Label Encoding\n",
    "label_encoder = LabelEncoder()\n",
    "df['Graphics_Card'] = label_encoder.fit_transform(df['Graphics_Card'])\n",
    "df['OS'] = label_encoder.fit_transform(df['OS'])\n",
    "\n",
    "# Split data into features (X) and target (y)\n",
    "X = df.drop(columns=['Name'])\n",
    "y = df['Name']\n",
    "\n",
    "try:\n",
    "    # Create and train the model\n",
    "    model = RandomForestClassifier()\n",
    "    model.fit(X, y)\n",
    "    joblib.dump(model, 'game_recommendation_model.pkl')\n",
    "    print(\"Model trained and save succeefully!\")\n",
    "except Exception as e:\n",
    "    print(\"An error occurred:\",e)\n"
   ]
  },
  {
   "cell_type": "code",
   "execution_count": null,
   "id": "5a1c1cab",
   "metadata": {},
   "outputs": [],
   "source": []
  }
 ],
 "metadata": {
  "kernelspec": {
   "display_name": "Python 3 (ipykernel)",
   "language": "python",
   "name": "python3"
  },
  "language_info": {
   "codemirror_mode": {
    "name": "ipython",
    "version": 3
   },
   "file_extension": ".py",
   "mimetype": "text/x-python",
   "name": "python",
   "nbconvert_exporter": "python",
   "pygments_lexer": "ipython3",
   "version": "3.11.3"
  }
 },
 "nbformat": 4,
 "nbformat_minor": 5
}
